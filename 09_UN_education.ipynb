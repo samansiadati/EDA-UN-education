{
  "nbformat": 4,
  "nbformat_minor": 0,
  "metadata": {
    "colab": {
      "name": "09 UN education.ipynb",
      "provenance": [],
      "collapsed_sections": []
    },
    "kernelspec": {
      "name": "python3",
      "display_name": "Python 3"
    }
  },
  "cells": [
    {
      "cell_type": "code",
      "metadata": {
        "id": "UGGiyOBfovs5"
      },
      "source": [
        "import pandas as pd"
      ],
      "execution_count": null,
      "outputs": []
    },
    {
      "cell_type": "code",
      "metadata": {
        "id": "wX53STxNpKYf"
      },
      "source": [
        "## UN datasets : http://data.un.org/\n",
        "link = 'http://data.un.org/_Docs/SYB/CSV/SYB63_309_202009_Education.csv'"
      ],
      "execution_count": null,
      "outputs": []
    },
    {
      "cell_type": "code",
      "metadata": {
        "id": "bBFxIX3gqQMb"
      },
      "source": [
        "df = pd.read_csv(link)"
      ],
      "execution_count": null,
      "outputs": []
    },
    {
      "cell_type": "code",
      "metadata": {
        "colab": {
          "base_uri": "https://localhost:8080/",
          "height": 191
        },
        "id": "SUB_OmrKqZ6X",
        "outputId": "19241241-c0e4-4669-81af-544f1c217767"
      },
      "source": [
        "df.head()"
      ],
      "execution_count": null,
      "outputs": [
        {
          "output_type": "execute_result",
          "data": {
            "text/html": [
              "<div>\n",
              "<style scoped>\n",
              "    .dataframe tbody tr th:only-of-type {\n",
              "        vertical-align: middle;\n",
              "    }\n",
              "\n",
              "    .dataframe tbody tr th {\n",
              "        vertical-align: top;\n",
              "    }\n",
              "\n",
              "    .dataframe thead th {\n",
              "        text-align: right;\n",
              "    }\n",
              "</style>\n",
              "<table border=\"1\" class=\"dataframe\">\n",
              "  <thead>\n",
              "    <tr style=\"text-align: right;\">\n",
              "      <th></th>\n",
              "      <th>T06</th>\n",
              "      <th>Enrolment in primary, secondary and tertiary education levels</th>\n",
              "      <th>Unnamed: 2</th>\n",
              "      <th>Unnamed: 3</th>\n",
              "      <th>Unnamed: 4</th>\n",
              "      <th>Unnamed: 5</th>\n",
              "      <th>Unnamed: 6</th>\n",
              "    </tr>\n",
              "  </thead>\n",
              "  <tbody>\n",
              "    <tr>\n",
              "      <th>0</th>\n",
              "      <td>Region/Country/Area</td>\n",
              "      <td>NaN</td>\n",
              "      <td>Year</td>\n",
              "      <td>Series</td>\n",
              "      <td>Value</td>\n",
              "      <td>Footnotes</td>\n",
              "      <td>Source</td>\n",
              "    </tr>\n",
              "    <tr>\n",
              "      <th>1</th>\n",
              "      <td>1</td>\n",
              "      <td>Total, all countries or areas</td>\n",
              "      <td>2005</td>\n",
              "      <td>Students enrolled in primary education (thousa...</td>\n",
              "      <td>678920.8179</td>\n",
              "      <td>NaN</td>\n",
              "      <td>United Nations Educational, Scientific and Cul...</td>\n",
              "    </tr>\n",
              "    <tr>\n",
              "      <th>2</th>\n",
              "      <td>1</td>\n",
              "      <td>Total, all countries or areas</td>\n",
              "      <td>2005</td>\n",
              "      <td>Gross enrollment ratio - Primary (male)</td>\n",
              "      <td>104.5005</td>\n",
              "      <td>NaN</td>\n",
              "      <td>United Nations Educational, Scientific and Cul...</td>\n",
              "    </tr>\n",
              "    <tr>\n",
              "      <th>3</th>\n",
              "      <td>1</td>\n",
              "      <td>Total, all countries or areas</td>\n",
              "      <td>2005</td>\n",
              "      <td>Gross enrollment ratio - Primary (female)</td>\n",
              "      <td>99.7310</td>\n",
              "      <td>NaN</td>\n",
              "      <td>United Nations Educational, Scientific and Cul...</td>\n",
              "    </tr>\n",
              "    <tr>\n",
              "      <th>4</th>\n",
              "      <td>1</td>\n",
              "      <td>Total, all countries or areas</td>\n",
              "      <td>2005</td>\n",
              "      <td>Students enrolled in secondary education (thou...</td>\n",
              "      <td>509254.2941</td>\n",
              "      <td>NaN</td>\n",
              "      <td>United Nations Educational, Scientific and Cul...</td>\n",
              "    </tr>\n",
              "  </tbody>\n",
              "</table>\n",
              "</div>"
            ],
            "text/plain": [
              "                   T06  ...                                         Unnamed: 6\n",
              "0  Region/Country/Area  ...                                             Source\n",
              "1                    1  ...  United Nations Educational, Scientific and Cul...\n",
              "2                    1  ...  United Nations Educational, Scientific and Cul...\n",
              "3                    1  ...  United Nations Educational, Scientific and Cul...\n",
              "4                    1  ...  United Nations Educational, Scientific and Cul...\n",
              "\n",
              "[5 rows x 7 columns]"
            ]
          },
          "metadata": {
            "tags": []
          },
          "execution_count": 4
        }
      ]
    },
    {
      "cell_type": "code",
      "metadata": {
        "id": "AWoJbA25IUu_"
      },
      "source": [
        ""
      ],
      "execution_count": null,
      "outputs": []
    },
    {
      "cell_type": "markdown",
      "metadata": {
        "id": "eBPGxy3pqq_e"
      },
      "source": [
        "The first row does not contain useful information. We should use `skiprows` parameter\n",
        "\n"
      ]
    },
    {
      "cell_type": "code",
      "metadata": {
        "id": "5hSQYCEqqdc4"
      },
      "source": [
        "df = pd.read_csv(link, skiprows=1)"
      ],
      "execution_count": null,
      "outputs": []
    },
    {
      "cell_type": "code",
      "metadata": {
        "colab": {
          "base_uri": "https://localhost:8080/",
          "height": 391
        },
        "id": "_6uRnR9Sq9OA",
        "outputId": "4e88192b-08f6-4146-be6e-e86216ea1529"
      },
      "source": [
        "df"
      ],
      "execution_count": null,
      "outputs": [
        {
          "output_type": "execute_result",
          "data": {
            "text/html": [
              "<div>\n",
              "<style scoped>\n",
              "    .dataframe tbody tr th:only-of-type {\n",
              "        vertical-align: middle;\n",
              "    }\n",
              "\n",
              "    .dataframe tbody tr th {\n",
              "        vertical-align: top;\n",
              "    }\n",
              "\n",
              "    .dataframe thead th {\n",
              "        text-align: right;\n",
              "    }\n",
              "</style>\n",
              "<table border=\"1\" class=\"dataframe\">\n",
              "  <thead>\n",
              "    <tr style=\"text-align: right;\">\n",
              "      <th></th>\n",
              "      <th>Region/Country/Area</th>\n",
              "      <th>Unnamed: 1</th>\n",
              "      <th>Year</th>\n",
              "      <th>Series</th>\n",
              "      <th>Value</th>\n",
              "      <th>Footnotes</th>\n",
              "      <th>Source</th>\n",
              "    </tr>\n",
              "  </thead>\n",
              "  <tbody>\n",
              "    <tr>\n",
              "      <th>0</th>\n",
              "      <td>1</td>\n",
              "      <td>Total, all countries or areas</td>\n",
              "      <td>2005</td>\n",
              "      <td>Students enrolled in primary education (thousa...</td>\n",
              "      <td>678920.8179</td>\n",
              "      <td>NaN</td>\n",
              "      <td>United Nations Educational, Scientific and Cul...</td>\n",
              "    </tr>\n",
              "    <tr>\n",
              "      <th>1</th>\n",
              "      <td>1</td>\n",
              "      <td>Total, all countries or areas</td>\n",
              "      <td>2005</td>\n",
              "      <td>Gross enrollment ratio - Primary (male)</td>\n",
              "      <td>104.5005</td>\n",
              "      <td>NaN</td>\n",
              "      <td>United Nations Educational, Scientific and Cul...</td>\n",
              "    </tr>\n",
              "    <tr>\n",
              "      <th>2</th>\n",
              "      <td>1</td>\n",
              "      <td>Total, all countries or areas</td>\n",
              "      <td>2005</td>\n",
              "      <td>Gross enrollment ratio - Primary (female)</td>\n",
              "      <td>99.7310</td>\n",
              "      <td>NaN</td>\n",
              "      <td>United Nations Educational, Scientific and Cul...</td>\n",
              "    </tr>\n",
              "    <tr>\n",
              "      <th>3</th>\n",
              "      <td>1</td>\n",
              "      <td>Total, all countries or areas</td>\n",
              "      <td>2005</td>\n",
              "      <td>Students enrolled in secondary education (thou...</td>\n",
              "      <td>509254.2941</td>\n",
              "      <td>NaN</td>\n",
              "      <td>United Nations Educational, Scientific and Cul...</td>\n",
              "    </tr>\n",
              "    <tr>\n",
              "      <th>4</th>\n",
              "      <td>1</td>\n",
              "      <td>Total, all countries or areas</td>\n",
              "      <td>2005</td>\n",
              "      <td>Gross enrollment ratio - Secondary (male)</td>\n",
              "      <td>65.7811</td>\n",
              "      <td>NaN</td>\n",
              "      <td>United Nations Educational, Scientific and Cul...</td>\n",
              "    </tr>\n",
              "    <tr>\n",
              "      <th>...</th>\n",
              "      <td>...</td>\n",
              "      <td>...</td>\n",
              "      <td>...</td>\n",
              "      <td>...</td>\n",
              "      <td>...</td>\n",
              "      <td>...</td>\n",
              "      <td>...</td>\n",
              "    </tr>\n",
              "    <tr>\n",
              "      <th>8848</th>\n",
              "      <td>716</td>\n",
              "      <td>Zimbabwe</td>\n",
              "      <td>2013</td>\n",
              "      <td>Gross enrollment ratio - Tertiary (male)</td>\n",
              "      <td>7.8646</td>\n",
              "      <td>NaN</td>\n",
              "      <td>United Nations Educational, Scientific and Cul...</td>\n",
              "    </tr>\n",
              "    <tr>\n",
              "      <th>8849</th>\n",
              "      <td>716</td>\n",
              "      <td>Zimbabwe</td>\n",
              "      <td>2013</td>\n",
              "      <td>Gross enrollment ratio - Tertiary (female)</td>\n",
              "      <td>6.0990</td>\n",
              "      <td>NaN</td>\n",
              "      <td>United Nations Educational, Scientific and Cul...</td>\n",
              "    </tr>\n",
              "    <tr>\n",
              "      <th>8850</th>\n",
              "      <td>716</td>\n",
              "      <td>Zimbabwe</td>\n",
              "      <td>2015</td>\n",
              "      <td>Students enrolled in tertiary education (thous...</td>\n",
              "      <td>135.5750</td>\n",
              "      <td>NaN</td>\n",
              "      <td>United Nations Educational, Scientific and Cul...</td>\n",
              "    </tr>\n",
              "    <tr>\n",
              "      <th>8851</th>\n",
              "      <td>716</td>\n",
              "      <td>Zimbabwe</td>\n",
              "      <td>2015</td>\n",
              "      <td>Gross enrollment ratio - Tertiary (male)</td>\n",
              "      <td>10.9197</td>\n",
              "      <td>NaN</td>\n",
              "      <td>United Nations Educational, Scientific and Cul...</td>\n",
              "    </tr>\n",
              "    <tr>\n",
              "      <th>8852</th>\n",
              "      <td>716</td>\n",
              "      <td>Zimbabwe</td>\n",
              "      <td>2015</td>\n",
              "      <td>Gross enrollment ratio - Tertiary (female)</td>\n",
              "      <td>9.1721</td>\n",
              "      <td>NaN</td>\n",
              "      <td>United Nations Educational, Scientific and Cul...</td>\n",
              "    </tr>\n",
              "  </tbody>\n",
              "</table>\n",
              "<p>8853 rows × 7 columns</p>\n",
              "</div>"
            ],
            "text/plain": [
              "      Region/Country/Area  ...                                             Source\n",
              "0                       1  ...  United Nations Educational, Scientific and Cul...\n",
              "1                       1  ...  United Nations Educational, Scientific and Cul...\n",
              "2                       1  ...  United Nations Educational, Scientific and Cul...\n",
              "3                       1  ...  United Nations Educational, Scientific and Cul...\n",
              "4                       1  ...  United Nations Educational, Scientific and Cul...\n",
              "...                   ...  ...                                                ...\n",
              "8848                  716  ...  United Nations Educational, Scientific and Cul...\n",
              "8849                  716  ...  United Nations Educational, Scientific and Cul...\n",
              "8850                  716  ...  United Nations Educational, Scientific and Cul...\n",
              "8851                  716  ...  United Nations Educational, Scientific and Cul...\n",
              "8852                  716  ...  United Nations Educational, Scientific and Cul...\n",
              "\n",
              "[8853 rows x 7 columns]"
            ]
          },
          "metadata": {
            "tags": []
          },
          "execution_count": 6
        }
      ]
    },
    {
      "cell_type": "code",
      "metadata": {
        "colab": {
          "base_uri": "https://localhost:8080/"
        },
        "id": "FmLDwiezq-n5",
        "outputId": "398cfdd9-52b9-413b-c745-06a61cfdd269"
      },
      "source": [
        "df.info()"
      ],
      "execution_count": null,
      "outputs": [
        {
          "output_type": "stream",
          "text": [
            "<class 'pandas.core.frame.DataFrame'>\n",
            "RangeIndex: 8853 entries, 0 to 8852\n",
            "Data columns (total 7 columns):\n",
            " #   Column               Non-Null Count  Dtype  \n",
            "---  ------               --------------  -----  \n",
            " 0   Region/Country/Area  8853 non-null   int64  \n",
            " 1   Unnamed: 1           8853 non-null   object \n",
            " 2   Year                 8853 non-null   int64  \n",
            " 3   Series               8853 non-null   object \n",
            " 4   Value                8853 non-null   float64\n",
            " 5   Footnotes            801 non-null    object \n",
            " 6   Source               8853 non-null   object \n",
            "dtypes: float64(1), int64(2), object(4)\n",
            "memory usage: 484.3+ KB\n"
          ],
          "name": "stdout"
        }
      ]
    },
    {
      "cell_type": "code",
      "metadata": {
        "id": "S6GmvOpfuplB"
      },
      "source": [
        ""
      ],
      "execution_count": null,
      "outputs": []
    },
    {
      "cell_type": "markdown",
      "metadata": {
        "id": "F9aQYd0_saNG"
      },
      "source": [
        "It seems that `Region..` and `Source` columns have no value. Let's investigate them!"
      ]
    },
    {
      "cell_type": "code",
      "metadata": {
        "colab": {
          "base_uri": "https://localhost:8080/"
        },
        "id": "q2CikAAarix_",
        "outputId": "eddf5f11-be8d-4efe-947b-19c31f1f2d8f"
      },
      "source": [
        "df['Region/Country/Area'].value_counts()"
      ],
      "execution_count": null,
      "outputs": [
        {
          "output_type": "execute_result",
          "data": {
            "text/plain": [
              "862    62\n",
              "204    62\n",
              "268    61\n",
              "120    60\n",
              "356    57\n",
              "       ..\n",
              "736     7\n",
              "706     6\n",
              "530     3\n",
              "850     1\n",
              "16      1\n",
              "Name: Region/Country/Area, Length: 224, dtype: int64"
            ]
          },
          "metadata": {
            "tags": []
          },
          "execution_count": 8
        }
      ]
    },
    {
      "cell_type": "code",
      "metadata": {
        "colab": {
          "base_uri": "https://localhost:8080/"
        },
        "id": "PepGzIepsu33",
        "outputId": "4a9b5b59-2fd7-4ec0-8d10-67ba96cff355"
      },
      "source": [
        "df['Source'].value_counts()"
      ],
      "execution_count": null,
      "outputs": [
        {
          "output_type": "execute_result",
          "data": {
            "text/plain": [
              "United Nations Educational, Scientific and Cultural Organization (UNESCO), Montreal, the UNESCO Institute for Statistics (UIS) statistics database, last accessed May 2020.    8853\n",
              "Name: Source, dtype: int64"
            ]
          },
          "metadata": {
            "tags": []
          },
          "execution_count": 9
        }
      ]
    },
    {
      "cell_type": "code",
      "metadata": {
        "id": "r_1YT0Souomk"
      },
      "source": [
        ""
      ],
      "execution_count": null,
      "outputs": []
    },
    {
      "cell_type": "markdown",
      "metadata": {
        "id": "vnu6w8KLrWhm"
      },
      "source": [
        "So, let's drop them!"
      ]
    },
    {
      "cell_type": "code",
      "metadata": {
        "id": "9x9F86hOrC_2"
      },
      "source": [
        "df1 = df.drop(['Region/Country/Area','Source'], axis=1)"
      ],
      "execution_count": null,
      "outputs": []
    },
    {
      "cell_type": "code",
      "metadata": {
        "colab": {
          "base_uri": "https://localhost:8080/",
          "height": 191
        },
        "id": "LR-FU-QytIht",
        "outputId": "bef25595-db56-4d59-96b2-7d4b193acbe3"
      },
      "source": [
        "df1.head()"
      ],
      "execution_count": null,
      "outputs": [
        {
          "output_type": "execute_result",
          "data": {
            "text/html": [
              "<div>\n",
              "<style scoped>\n",
              "    .dataframe tbody tr th:only-of-type {\n",
              "        vertical-align: middle;\n",
              "    }\n",
              "\n",
              "    .dataframe tbody tr th {\n",
              "        vertical-align: top;\n",
              "    }\n",
              "\n",
              "    .dataframe thead th {\n",
              "        text-align: right;\n",
              "    }\n",
              "</style>\n",
              "<table border=\"1\" class=\"dataframe\">\n",
              "  <thead>\n",
              "    <tr style=\"text-align: right;\">\n",
              "      <th></th>\n",
              "      <th>Unnamed: 1</th>\n",
              "      <th>Year</th>\n",
              "      <th>Series</th>\n",
              "      <th>Value</th>\n",
              "      <th>Footnotes</th>\n",
              "    </tr>\n",
              "  </thead>\n",
              "  <tbody>\n",
              "    <tr>\n",
              "      <th>0</th>\n",
              "      <td>Total, all countries or areas</td>\n",
              "      <td>2005</td>\n",
              "      <td>Students enrolled in primary education (thousa...</td>\n",
              "      <td>678920.8179</td>\n",
              "      <td>NaN</td>\n",
              "    </tr>\n",
              "    <tr>\n",
              "      <th>1</th>\n",
              "      <td>Total, all countries or areas</td>\n",
              "      <td>2005</td>\n",
              "      <td>Gross enrollment ratio - Primary (male)</td>\n",
              "      <td>104.5005</td>\n",
              "      <td>NaN</td>\n",
              "    </tr>\n",
              "    <tr>\n",
              "      <th>2</th>\n",
              "      <td>Total, all countries or areas</td>\n",
              "      <td>2005</td>\n",
              "      <td>Gross enrollment ratio - Primary (female)</td>\n",
              "      <td>99.7310</td>\n",
              "      <td>NaN</td>\n",
              "    </tr>\n",
              "    <tr>\n",
              "      <th>3</th>\n",
              "      <td>Total, all countries or areas</td>\n",
              "      <td>2005</td>\n",
              "      <td>Students enrolled in secondary education (thou...</td>\n",
              "      <td>509254.2941</td>\n",
              "      <td>NaN</td>\n",
              "    </tr>\n",
              "    <tr>\n",
              "      <th>4</th>\n",
              "      <td>Total, all countries or areas</td>\n",
              "      <td>2005</td>\n",
              "      <td>Gross enrollment ratio - Secondary (male)</td>\n",
              "      <td>65.7811</td>\n",
              "      <td>NaN</td>\n",
              "    </tr>\n",
              "  </tbody>\n",
              "</table>\n",
              "</div>"
            ],
            "text/plain": [
              "                      Unnamed: 1  Year  ...        Value  Footnotes\n",
              "0  Total, all countries or areas  2005  ...  678920.8179        NaN\n",
              "1  Total, all countries or areas  2005  ...     104.5005        NaN\n",
              "2  Total, all countries or areas  2005  ...      99.7310        NaN\n",
              "3  Total, all countries or areas  2005  ...  509254.2941        NaN\n",
              "4  Total, all countries or areas  2005  ...      65.7811        NaN\n",
              "\n",
              "[5 rows x 5 columns]"
            ]
          },
          "metadata": {
            "tags": []
          },
          "execution_count": 11
        }
      ]
    },
    {
      "cell_type": "code",
      "metadata": {
        "id": "rsI2j00WumnG"
      },
      "source": [
        ""
      ],
      "execution_count": null,
      "outputs": []
    },
    {
      "cell_type": "markdown",
      "metadata": {
        "id": "QcZmmEoLtymW"
      },
      "source": [
        "It seems that the titles of column aren't fine ones, so let's change them!"
      ]
    },
    {
      "cell_type": "code",
      "metadata": {
        "id": "u94_JCKEtMr3"
      },
      "source": [
        "df1.columns = ['Region/Country/Area','Year','Data','Enrollments (Thousands)','Footnotes']"
      ],
      "execution_count": null,
      "outputs": []
    },
    {
      "cell_type": "code",
      "metadata": {
        "colab": {
          "base_uri": "https://localhost:8080/",
          "height": 191
        },
        "id": "KRgmnZX8uJqj",
        "outputId": "9521ef19-2475-43c1-9723-3e5061605046"
      },
      "source": [
        "df1.head()"
      ],
      "execution_count": null,
      "outputs": [
        {
          "output_type": "execute_result",
          "data": {
            "text/html": [
              "<div>\n",
              "<style scoped>\n",
              "    .dataframe tbody tr th:only-of-type {\n",
              "        vertical-align: middle;\n",
              "    }\n",
              "\n",
              "    .dataframe tbody tr th {\n",
              "        vertical-align: top;\n",
              "    }\n",
              "\n",
              "    .dataframe thead th {\n",
              "        text-align: right;\n",
              "    }\n",
              "</style>\n",
              "<table border=\"1\" class=\"dataframe\">\n",
              "  <thead>\n",
              "    <tr style=\"text-align: right;\">\n",
              "      <th></th>\n",
              "      <th>Region/Country/Area</th>\n",
              "      <th>Year</th>\n",
              "      <th>Data</th>\n",
              "      <th>Enrollments (Thousands)</th>\n",
              "      <th>Footnotes</th>\n",
              "    </tr>\n",
              "  </thead>\n",
              "  <tbody>\n",
              "    <tr>\n",
              "      <th>0</th>\n",
              "      <td>Total, all countries or areas</td>\n",
              "      <td>2005</td>\n",
              "      <td>Students enrolled in primary education (thousa...</td>\n",
              "      <td>678920.8179</td>\n",
              "      <td>NaN</td>\n",
              "    </tr>\n",
              "    <tr>\n",
              "      <th>1</th>\n",
              "      <td>Total, all countries or areas</td>\n",
              "      <td>2005</td>\n",
              "      <td>Gross enrollment ratio - Primary (male)</td>\n",
              "      <td>104.5005</td>\n",
              "      <td>NaN</td>\n",
              "    </tr>\n",
              "    <tr>\n",
              "      <th>2</th>\n",
              "      <td>Total, all countries or areas</td>\n",
              "      <td>2005</td>\n",
              "      <td>Gross enrollment ratio - Primary (female)</td>\n",
              "      <td>99.7310</td>\n",
              "      <td>NaN</td>\n",
              "    </tr>\n",
              "    <tr>\n",
              "      <th>3</th>\n",
              "      <td>Total, all countries or areas</td>\n",
              "      <td>2005</td>\n",
              "      <td>Students enrolled in secondary education (thou...</td>\n",
              "      <td>509254.2941</td>\n",
              "      <td>NaN</td>\n",
              "    </tr>\n",
              "    <tr>\n",
              "      <th>4</th>\n",
              "      <td>Total, all countries or areas</td>\n",
              "      <td>2005</td>\n",
              "      <td>Gross enrollment ratio - Secondary (male)</td>\n",
              "      <td>65.7811</td>\n",
              "      <td>NaN</td>\n",
              "    </tr>\n",
              "  </tbody>\n",
              "</table>\n",
              "</div>"
            ],
            "text/plain": [
              "             Region/Country/Area  Year  ... Enrollments (Thousands)  Footnotes\n",
              "0  Total, all countries or areas  2005  ...             678920.8179        NaN\n",
              "1  Total, all countries or areas  2005  ...                104.5005        NaN\n",
              "2  Total, all countries or areas  2005  ...                 99.7310        NaN\n",
              "3  Total, all countries or areas  2005  ...             509254.2941        NaN\n",
              "4  Total, all countries or areas  2005  ...                 65.7811        NaN\n",
              "\n",
              "[5 rows x 5 columns]"
            ]
          },
          "metadata": {
            "tags": []
          },
          "execution_count": 13
        }
      ]
    },
    {
      "cell_type": "code",
      "metadata": {
        "id": "W_B9GgkLulVO"
      },
      "source": [
        ""
      ],
      "execution_count": null,
      "outputs": []
    },
    {
      "cell_type": "markdown",
      "metadata": {
        "id": "4dBF-eoSuWBe"
      },
      "source": [
        "Is the column `Footnotes` useful?"
      ]
    },
    {
      "cell_type": "code",
      "metadata": {
        "colab": {
          "base_uri": "https://localhost:8080/"
        },
        "id": "VZSVCGuAuLph",
        "outputId": "3d7ad303-8777-4dcf-b6ce-f6617d54931d"
      },
      "source": [
        "df1['Footnotes'].value_counts()"
      ],
      "execution_count": null,
      "outputs": [
        {
          "output_type": "execute_result",
          "data": {
            "text/plain": [
              "Estimate.    801\n",
              "Name: Footnotes, dtype: int64"
            ]
          },
          "metadata": {
            "tags": []
          },
          "execution_count": 14
        }
      ]
    },
    {
      "cell_type": "code",
      "metadata": {
        "colab": {
          "base_uri": "https://localhost:8080/"
        },
        "id": "KkJ5Yg0xu3tP",
        "outputId": "52932b38-577d-478b-af3a-0b528e3ba307"
      },
      "source": [
        "df1['Footnotes'].unique()"
      ],
      "execution_count": null,
      "outputs": [
        {
          "output_type": "execute_result",
          "data": {
            "text/plain": [
              "array([nan, 'Estimate.'], dtype=object)"
            ]
          },
          "metadata": {
            "tags": []
          },
          "execution_count": 15
        }
      ]
    },
    {
      "cell_type": "markdown",
      "metadata": {
        "id": "37CSrBBzvaFp"
      },
      "source": [
        "Maybe, let's keep it!"
      ]
    },
    {
      "cell_type": "code",
      "metadata": {
        "id": "_RtJ6FwUvcwX"
      },
      "source": [
        ""
      ],
      "execution_count": null,
      "outputs": []
    },
    {
      "cell_type": "markdown",
      "metadata": {
        "id": "neU3rARZykgf"
      },
      "source": [
        "Let's test the type of `Enrollments (Thousands)` column"
      ]
    },
    {
      "cell_type": "code",
      "metadata": {
        "colab": {
          "base_uri": "https://localhost:8080/"
        },
        "id": "q_dLPEbSvIkr",
        "outputId": "a87f6695-cfcd-4a39-e5a1-7f7df6f8b540"
      },
      "source": [
        "type(df1['Enrollments (Thousands)'][40])"
      ],
      "execution_count": null,
      "outputs": [
        {
          "output_type": "execute_result",
          "data": {
            "text/plain": [
              "numpy.float64"
            ]
          },
          "metadata": {
            "tags": []
          },
          "execution_count": 16
        }
      ]
    },
    {
      "cell_type": "markdown",
      "metadata": {
        "id": "g2e4KEIVy26f"
      },
      "source": [
        "A function to convert the strings in Value column to floating point numbers"
      ]
    },
    {
      "cell_type": "code",
      "metadata": {
        "id": "QWabPVnnxOFb"
      },
      "source": [
        "def to_numeric(val):\n",
        "    \"\"\"\n",
        "    Converts a given string (with one or more commas) to a numeric value\n",
        "    \"\"\"\n",
        "    if ',' not in str(val):\n",
        "        result = float(val)\n",
        "    else:\n",
        "        val=str(val)\n",
        "        val=''.join(str(val).split(','))\n",
        "        result=float(val)\n",
        "    return result"
      ],
      "execution_count": null,
      "outputs": []
    },
    {
      "cell_type": "markdown",
      "metadata": {
        "id": "coBXm4b1zIuv"
      },
      "source": [
        "Use the `apply()` method to apply this function to the `Value` column data"
      ]
    },
    {
      "cell_type": "code",
      "metadata": {
        "id": "RqYe4xGYzL48"
      },
      "source": [
        "df1['Enrollments (Thousands)'] = df1['Enrollments (Thousands)'].apply(to_numeric)"
      ],
      "execution_count": null,
      "outputs": []
    },
    {
      "cell_type": "code",
      "metadata": {
        "id": "tkDNJomEzvcQ"
      },
      "source": [
        ""
      ],
      "execution_count": null,
      "outputs": []
    },
    {
      "cell_type": "markdown",
      "metadata": {
        "id": "OvFx-A5Vzxbl"
      },
      "source": [
        "What about the `Data` column!"
      ]
    },
    {
      "cell_type": "code",
      "metadata": {
        "colab": {
          "base_uri": "https://localhost:8080/"
        },
        "id": "4IObhMBUzo-M",
        "outputId": "660aefbd-a2d0-46d0-f668-e7aee2039021"
      },
      "source": [
        "df1['Data'].value_counts()"
      ],
      "execution_count": null,
      "outputs": [
        {
          "output_type": "execute_result",
          "data": {
            "text/plain": [
              "Students enrolled in primary education (thousands)      1160\n",
              "Gross enrollment ratio - Primary (male)                 1099\n",
              "Gross enrollment ratio - Primary (female)               1099\n",
              "Students enrolled in secondary education (thousands)    1015\n",
              "Gross enrollment ratio - Secondary (male)                951\n",
              "Gross enrollment ratio - Secondary (female)              951\n",
              "Students enrolled in tertiary education (thousands)      910\n",
              "Gross enrollment ratio - Tertiary (male)                 834\n",
              "Gross enrollment ratio - Tertiary (female)               834\n",
              "Name: Data, dtype: int64"
            ]
          },
          "metadata": {
            "tags": []
          },
          "execution_count": 19
        }
      ]
    },
    {
      "cell_type": "code",
      "metadata": {
        "colab": {
          "base_uri": "https://localhost:8080/"
        },
        "id": "_KkGCJUAz98y",
        "outputId": "d0d739ea-de5a-4b04-c460-bc28887f5bdd"
      },
      "source": [
        "df1['Data'].unique()"
      ],
      "execution_count": null,
      "outputs": [
        {
          "output_type": "execute_result",
          "data": {
            "text/plain": [
              "array(['Students enrolled in primary education (thousands)',\n",
              "       'Gross enrollment ratio - Primary (male)',\n",
              "       'Gross enrollment ratio - Primary (female)',\n",
              "       'Students enrolled in secondary education (thousands)',\n",
              "       'Gross enrollment ratio - Secondary (male)',\n",
              "       'Gross enrollment ratio - Secondary (female)',\n",
              "       'Students enrolled in tertiary education (thousands)',\n",
              "       'Gross enrollment ratio - Tertiary (male)',\n",
              "       'Gross enrollment ratio - Tertiary (female)'], dtype=object)"
            ]
          },
          "metadata": {
            "tags": []
          },
          "execution_count": 20
        }
      ]
    },
    {
      "cell_type": "code",
      "metadata": {
        "id": "4TQwn2p20otY"
      },
      "source": [
        ""
      ],
      "execution_count": null,
      "outputs": []
    },
    {
      "cell_type": "markdown",
      "metadata": {
        "id": "0lJYrn2a0pfN"
      },
      "source": [
        "Let's create 3 different datasets"
      ]
    },
    {
      "cell_type": "code",
      "metadata": {
        "id": "oGIQk7Jw0Ybm"
      },
      "source": [
        "df_primary   = df1[df1['Data']=='Students enrolled in primary education (thousands)']\n",
        "df_secondary = df1[df1['Data']=='Students enrolled in secondary education (thousands)']\n",
        "df_tertiary  = df1[df1['Data']=='Students enrolled in tertiary education (thousands)']"
      ],
      "execution_count": null,
      "outputs": []
    },
    {
      "cell_type": "code",
      "metadata": {
        "colab": {
          "base_uri": "https://localhost:8080/",
          "height": 391
        },
        "id": "Y1-5licT04sd",
        "outputId": "d9d281cf-6634-4f5c-b6be-44ec920750a3"
      },
      "source": [
        "df_primary"
      ],
      "execution_count": null,
      "outputs": [
        {
          "output_type": "execute_result",
          "data": {
            "text/html": [
              "<div>\n",
              "<style scoped>\n",
              "    .dataframe tbody tr th:only-of-type {\n",
              "        vertical-align: middle;\n",
              "    }\n",
              "\n",
              "    .dataframe tbody tr th {\n",
              "        vertical-align: top;\n",
              "    }\n",
              "\n",
              "    .dataframe thead th {\n",
              "        text-align: right;\n",
              "    }\n",
              "</style>\n",
              "<table border=\"1\" class=\"dataframe\">\n",
              "  <thead>\n",
              "    <tr style=\"text-align: right;\">\n",
              "      <th></th>\n",
              "      <th>Region/Country/Area</th>\n",
              "      <th>Year</th>\n",
              "      <th>Data</th>\n",
              "      <th>Enrollments (Thousands)</th>\n",
              "      <th>Footnotes</th>\n",
              "    </tr>\n",
              "  </thead>\n",
              "  <tbody>\n",
              "    <tr>\n",
              "      <th>0</th>\n",
              "      <td>Total, all countries or areas</td>\n",
              "      <td>2005</td>\n",
              "      <td>Students enrolled in primary education (thousa...</td>\n",
              "      <td>678920.8179</td>\n",
              "      <td>NaN</td>\n",
              "    </tr>\n",
              "    <tr>\n",
              "      <th>9</th>\n",
              "      <td>Total, all countries or areas</td>\n",
              "      <td>2010</td>\n",
              "      <td>Students enrolled in primary education (thousa...</td>\n",
              "      <td>697001.1514</td>\n",
              "      <td>NaN</td>\n",
              "    </tr>\n",
              "    <tr>\n",
              "      <th>18</th>\n",
              "      <td>Total, all countries or areas</td>\n",
              "      <td>2014</td>\n",
              "      <td>Students enrolled in primary education (thousa...</td>\n",
              "      <td>715427.0483</td>\n",
              "      <td>NaN</td>\n",
              "    </tr>\n",
              "    <tr>\n",
              "      <th>27</th>\n",
              "      <td>Total, all countries or areas</td>\n",
              "      <td>2015</td>\n",
              "      <td>Students enrolled in primary education (thousa...</td>\n",
              "      <td>720012.3414</td>\n",
              "      <td>NaN</td>\n",
              "    </tr>\n",
              "    <tr>\n",
              "      <th>36</th>\n",
              "      <td>Total, all countries or areas</td>\n",
              "      <td>2018</td>\n",
              "      <td>Students enrolled in primary education (thousa...</td>\n",
              "      <td>750739.3790</td>\n",
              "      <td>Estimate.</td>\n",
              "    </tr>\n",
              "    <tr>\n",
              "      <th>...</th>\n",
              "      <td>...</td>\n",
              "      <td>...</td>\n",
              "      <td>...</td>\n",
              "      <td>...</td>\n",
              "      <td>...</td>\n",
              "    </tr>\n",
              "    <tr>\n",
              "      <th>8823</th>\n",
              "      <td>Zambia</td>\n",
              "      <td>2014</td>\n",
              "      <td>Students enrolled in primary education (thousa...</td>\n",
              "      <td>3217.8720</td>\n",
              "      <td>NaN</td>\n",
              "    </tr>\n",
              "    <tr>\n",
              "      <th>8826</th>\n",
              "      <td>Zambia</td>\n",
              "      <td>2015</td>\n",
              "      <td>Students enrolled in primary education (thousa...</td>\n",
              "      <td>3215.7230</td>\n",
              "      <td>NaN</td>\n",
              "    </tr>\n",
              "    <tr>\n",
              "      <th>8829</th>\n",
              "      <td>Zambia</td>\n",
              "      <td>2017</td>\n",
              "      <td>Students enrolled in primary education (thousa...</td>\n",
              "      <td>3284.8410</td>\n",
              "      <td>NaN</td>\n",
              "    </tr>\n",
              "    <tr>\n",
              "      <th>8832</th>\n",
              "      <td>Zimbabwe</td>\n",
              "      <td>2003</td>\n",
              "      <td>Students enrolled in primary education (thousa...</td>\n",
              "      <td>2361.5880</td>\n",
              "      <td>NaN</td>\n",
              "    </tr>\n",
              "    <tr>\n",
              "      <th>8841</th>\n",
              "      <td>Zimbabwe</td>\n",
              "      <td>2013</td>\n",
              "      <td>Students enrolled in primary education (thousa...</td>\n",
              "      <td>2663.1870</td>\n",
              "      <td>NaN</td>\n",
              "    </tr>\n",
              "  </tbody>\n",
              "</table>\n",
              "<p>1160 rows × 5 columns</p>\n",
              "</div>"
            ],
            "text/plain": [
              "                Region/Country/Area  Year  ... Enrollments (Thousands)  Footnotes\n",
              "0     Total, all countries or areas  2005  ...             678920.8179        NaN\n",
              "9     Total, all countries or areas  2010  ...             697001.1514        NaN\n",
              "18    Total, all countries or areas  2014  ...             715427.0483        NaN\n",
              "27    Total, all countries or areas  2015  ...             720012.3414        NaN\n",
              "36    Total, all countries or areas  2018  ...             750739.3790  Estimate.\n",
              "...                             ...   ...  ...                     ...        ...\n",
              "8823                         Zambia  2014  ...               3217.8720        NaN\n",
              "8826                         Zambia  2015  ...               3215.7230        NaN\n",
              "8829                         Zambia  2017  ...               3284.8410        NaN\n",
              "8832                       Zimbabwe  2003  ...               2361.5880        NaN\n",
              "8841                       Zimbabwe  2013  ...               2663.1870        NaN\n",
              "\n",
              "[1160 rows x 5 columns]"
            ]
          },
          "metadata": {
            "tags": []
          },
          "execution_count": 22
        }
      ]
    },
    {
      "cell_type": "code",
      "metadata": {
        "colab": {
          "base_uri": "https://localhost:8080/",
          "height": 391
        },
        "id": "sW4M5XMj0-id",
        "outputId": "32153af1-0f0b-44cd-8607-1bda5c2d0d33"
      },
      "source": [
        "df_secondary"
      ],
      "execution_count": null,
      "outputs": [
        {
          "output_type": "execute_result",
          "data": {
            "text/html": [
              "<div>\n",
              "<style scoped>\n",
              "    .dataframe tbody tr th:only-of-type {\n",
              "        vertical-align: middle;\n",
              "    }\n",
              "\n",
              "    .dataframe tbody tr th {\n",
              "        vertical-align: top;\n",
              "    }\n",
              "\n",
              "    .dataframe thead th {\n",
              "        text-align: right;\n",
              "    }\n",
              "</style>\n",
              "<table border=\"1\" class=\"dataframe\">\n",
              "  <thead>\n",
              "    <tr style=\"text-align: right;\">\n",
              "      <th></th>\n",
              "      <th>Region/Country/Area</th>\n",
              "      <th>Year</th>\n",
              "      <th>Data</th>\n",
              "      <th>Enrollments (Thousands)</th>\n",
              "      <th>Footnotes</th>\n",
              "    </tr>\n",
              "  </thead>\n",
              "  <tbody>\n",
              "    <tr>\n",
              "      <th>3</th>\n",
              "      <td>Total, all countries or areas</td>\n",
              "      <td>2005</td>\n",
              "      <td>Students enrolled in secondary education (thou...</td>\n",
              "      <td>509254.2941</td>\n",
              "      <td>NaN</td>\n",
              "    </tr>\n",
              "    <tr>\n",
              "      <th>12</th>\n",
              "      <td>Total, all countries or areas</td>\n",
              "      <td>2010</td>\n",
              "      <td>Students enrolled in secondary education (thou...</td>\n",
              "      <td>546192.2096</td>\n",
              "      <td>NaN</td>\n",
              "    </tr>\n",
              "    <tr>\n",
              "      <th>21</th>\n",
              "      <td>Total, all countries or areas</td>\n",
              "      <td>2014</td>\n",
              "      <td>Students enrolled in secondary education (thou...</td>\n",
              "      <td>580892.5288</td>\n",
              "      <td>NaN</td>\n",
              "    </tr>\n",
              "    <tr>\n",
              "      <th>30</th>\n",
              "      <td>Total, all countries or areas</td>\n",
              "      <td>2015</td>\n",
              "      <td>Students enrolled in secondary education (thou...</td>\n",
              "      <td>582977.1460</td>\n",
              "      <td>NaN</td>\n",
              "    </tr>\n",
              "    <tr>\n",
              "      <th>39</th>\n",
              "      <td>Total, all countries or areas</td>\n",
              "      <td>2018</td>\n",
              "      <td>Students enrolled in secondary education (thou...</td>\n",
              "      <td>594663.1921</td>\n",
              "      <td>Estimate.</td>\n",
              "    </tr>\n",
              "    <tr>\n",
              "      <th>...</th>\n",
              "      <td>...</td>\n",
              "      <td>...</td>\n",
              "      <td>...</td>\n",
              "      <td>...</td>\n",
              "      <td>...</td>\n",
              "    </tr>\n",
              "    <tr>\n",
              "      <th>8793</th>\n",
              "      <td>Yemen</td>\n",
              "      <td>2011</td>\n",
              "      <td>Students enrolled in secondary education (thou...</td>\n",
              "      <td>1643.1160</td>\n",
              "      <td>NaN</td>\n",
              "    </tr>\n",
              "    <tr>\n",
              "      <th>8802</th>\n",
              "      <td>Yemen</td>\n",
              "      <td>2013</td>\n",
              "      <td>Students enrolled in secondary education (thou...</td>\n",
              "      <td>1768.1020</td>\n",
              "      <td>NaN</td>\n",
              "    </tr>\n",
              "    <tr>\n",
              "      <th>8808</th>\n",
              "      <td>Yemen</td>\n",
              "      <td>2016</td>\n",
              "      <td>Students enrolled in secondary education (thou...</td>\n",
              "      <td>1915.8710</td>\n",
              "      <td>NaN</td>\n",
              "    </tr>\n",
              "    <tr>\n",
              "      <th>8835</th>\n",
              "      <td>Zimbabwe</td>\n",
              "      <td>2003</td>\n",
              "      <td>Students enrolled in secondary education (thou...</td>\n",
              "      <td>758.2290</td>\n",
              "      <td>NaN</td>\n",
              "    </tr>\n",
              "    <tr>\n",
              "      <th>8844</th>\n",
              "      <td>Zimbabwe</td>\n",
              "      <td>2013</td>\n",
              "      <td>Students enrolled in secondary education (thou...</td>\n",
              "      <td>957.4610</td>\n",
              "      <td>NaN</td>\n",
              "    </tr>\n",
              "  </tbody>\n",
              "</table>\n",
              "<p>1015 rows × 5 columns</p>\n",
              "</div>"
            ],
            "text/plain": [
              "                Region/Country/Area  Year  ... Enrollments (Thousands)  Footnotes\n",
              "3     Total, all countries or areas  2005  ...             509254.2941        NaN\n",
              "12    Total, all countries or areas  2010  ...             546192.2096        NaN\n",
              "21    Total, all countries or areas  2014  ...             580892.5288        NaN\n",
              "30    Total, all countries or areas  2015  ...             582977.1460        NaN\n",
              "39    Total, all countries or areas  2018  ...             594663.1921  Estimate.\n",
              "...                             ...   ...  ...                     ...        ...\n",
              "8793                          Yemen  2011  ...               1643.1160        NaN\n",
              "8802                          Yemen  2013  ...               1768.1020        NaN\n",
              "8808                          Yemen  2016  ...               1915.8710        NaN\n",
              "8835                       Zimbabwe  2003  ...                758.2290        NaN\n",
              "8844                       Zimbabwe  2013  ...                957.4610        NaN\n",
              "\n",
              "[1015 rows x 5 columns]"
            ]
          },
          "metadata": {
            "tags": []
          },
          "execution_count": 23
        }
      ]
    },
    {
      "cell_type": "code",
      "metadata": {
        "colab": {
          "base_uri": "https://localhost:8080/",
          "height": 391
        },
        "id": "Mc3X2rT31CLC",
        "outputId": "12c05cb0-8fa1-4b79-d1db-bf82e579f724"
      },
      "source": [
        "df_tertiary"
      ],
      "execution_count": null,
      "outputs": [
        {
          "output_type": "execute_result",
          "data": {
            "text/html": [
              "<div>\n",
              "<style scoped>\n",
              "    .dataframe tbody tr th:only-of-type {\n",
              "        vertical-align: middle;\n",
              "    }\n",
              "\n",
              "    .dataframe tbody tr th {\n",
              "        vertical-align: top;\n",
              "    }\n",
              "\n",
              "    .dataframe thead th {\n",
              "        text-align: right;\n",
              "    }\n",
              "</style>\n",
              "<table border=\"1\" class=\"dataframe\">\n",
              "  <thead>\n",
              "    <tr style=\"text-align: right;\">\n",
              "      <th></th>\n",
              "      <th>Region/Country/Area</th>\n",
              "      <th>Year</th>\n",
              "      <th>Data</th>\n",
              "      <th>Enrollments (Thousands)</th>\n",
              "      <th>Footnotes</th>\n",
              "    </tr>\n",
              "  </thead>\n",
              "  <tbody>\n",
              "    <tr>\n",
              "      <th>6</th>\n",
              "      <td>Total, all countries or areas</td>\n",
              "      <td>2005</td>\n",
              "      <td>Students enrolled in tertiary education (thous...</td>\n",
              "      <td>139578.2491</td>\n",
              "      <td>NaN</td>\n",
              "    </tr>\n",
              "    <tr>\n",
              "      <th>15</th>\n",
              "      <td>Total, all countries or areas</td>\n",
              "      <td>2010</td>\n",
              "      <td>Students enrolled in tertiary education (thous...</td>\n",
              "      <td>182257.6784</td>\n",
              "      <td>NaN</td>\n",
              "    </tr>\n",
              "    <tr>\n",
              "      <th>24</th>\n",
              "      <td>Total, all countries or areas</td>\n",
              "      <td>2014</td>\n",
              "      <td>Students enrolled in tertiary education (thous...</td>\n",
              "      <td>213025.3551</td>\n",
              "      <td>NaN</td>\n",
              "    </tr>\n",
              "    <tr>\n",
              "      <th>33</th>\n",
              "      <td>Total, all countries or areas</td>\n",
              "      <td>2015</td>\n",
              "      <td>Students enrolled in tertiary education (thous...</td>\n",
              "      <td>217626.6071</td>\n",
              "      <td>NaN</td>\n",
              "    </tr>\n",
              "    <tr>\n",
              "      <th>42</th>\n",
              "      <td>Total, all countries or areas</td>\n",
              "      <td>2018</td>\n",
              "      <td>Students enrolled in tertiary education (thous...</td>\n",
              "      <td>223671.8735</td>\n",
              "      <td>Estimate.</td>\n",
              "    </tr>\n",
              "    <tr>\n",
              "      <th>...</th>\n",
              "      <td>...</td>\n",
              "      <td>...</td>\n",
              "      <td>...</td>\n",
              "      <td>...</td>\n",
              "      <td>...</td>\n",
              "    </tr>\n",
              "    <tr>\n",
              "      <th>8796</th>\n",
              "      <td>Yemen</td>\n",
              "      <td>2011</td>\n",
              "      <td>Students enrolled in tertiary education (thous...</td>\n",
              "      <td>267.4980</td>\n",
              "      <td>NaN</td>\n",
              "    </tr>\n",
              "    <tr>\n",
              "      <th>8820</th>\n",
              "      <td>Zambia</td>\n",
              "      <td>2012</td>\n",
              "      <td>Students enrolled in tertiary education (thous...</td>\n",
              "      <td>56.6800</td>\n",
              "      <td>NaN</td>\n",
              "    </tr>\n",
              "    <tr>\n",
              "      <th>8838</th>\n",
              "      <td>Zimbabwe</td>\n",
              "      <td>2010</td>\n",
              "      <td>Students enrolled in tertiary education (thous...</td>\n",
              "      <td>94.6110</td>\n",
              "      <td>NaN</td>\n",
              "    </tr>\n",
              "    <tr>\n",
              "      <th>8847</th>\n",
              "      <td>Zimbabwe</td>\n",
              "      <td>2013</td>\n",
              "      <td>Students enrolled in tertiary education (thous...</td>\n",
              "      <td>94.1150</td>\n",
              "      <td>NaN</td>\n",
              "    </tr>\n",
              "    <tr>\n",
              "      <th>8850</th>\n",
              "      <td>Zimbabwe</td>\n",
              "      <td>2015</td>\n",
              "      <td>Students enrolled in tertiary education (thous...</td>\n",
              "      <td>135.5750</td>\n",
              "      <td>NaN</td>\n",
              "    </tr>\n",
              "  </tbody>\n",
              "</table>\n",
              "<p>910 rows × 5 columns</p>\n",
              "</div>"
            ],
            "text/plain": [
              "                Region/Country/Area  Year  ... Enrollments (Thousands)  Footnotes\n",
              "6     Total, all countries or areas  2005  ...             139578.2491        NaN\n",
              "15    Total, all countries or areas  2010  ...             182257.6784        NaN\n",
              "24    Total, all countries or areas  2014  ...             213025.3551        NaN\n",
              "33    Total, all countries or areas  2015  ...             217626.6071        NaN\n",
              "42    Total, all countries or areas  2018  ...             223671.8735  Estimate.\n",
              "...                             ...   ...  ...                     ...        ...\n",
              "8796                          Yemen  2011  ...                267.4980        NaN\n",
              "8820                         Zambia  2012  ...                 56.6800        NaN\n",
              "8838                       Zimbabwe  2010  ...                 94.6110        NaN\n",
              "8847                       Zimbabwe  2013  ...                 94.1150        NaN\n",
              "8850                       Zimbabwe  2015  ...                135.5750        NaN\n",
              "\n",
              "[910 rows x 5 columns]"
            ]
          },
          "metadata": {
            "tags": []
          },
          "execution_count": 24
        }
      ]
    },
    {
      "cell_type": "code",
      "metadata": {
        "id": "TEAE-noN1Y2D"
      },
      "source": [
        ""
      ],
      "execution_count": null,
      "outputs": []
    },
    {
      "cell_type": "code",
      "metadata": {
        "id": "8RwiyLlA1Yog"
      },
      "source": [
        ""
      ],
      "execution_count": null,
      "outputs": []
    },
    {
      "cell_type": "markdown",
      "metadata": {
        "id": "5OxIlW8S4IG0"
      },
      "source": [
        "Let's compare 2 countries data, USA and Australia"
      ]
    },
    {
      "cell_type": "code",
      "metadata": {
        "id": "26bFA1EU1GkB"
      },
      "source": [
        "primary_enrollment_Australia = df_primary[df_primary['Region/Country/Area']=='Australia']\n",
        "primary_enrollment_USA = df_primary[df_primary['Region/Country/Area']=='United States of America']"
      ],
      "execution_count": null,
      "outputs": []
    },
    {
      "cell_type": "code",
      "metadata": {
        "colab": {
          "base_uri": "https://localhost:8080/",
          "height": 191
        },
        "id": "OauU-zf_1fnJ",
        "outputId": "81787bbd-d4ba-44ae-fd4e-6dea136b9a65"
      },
      "source": [
        "primary_enrollment_Australia"
      ],
      "execution_count": null,
      "outputs": [
        {
          "output_type": "execute_result",
          "data": {
            "text/html": [
              "<div>\n",
              "<style scoped>\n",
              "    .dataframe tbody tr th:only-of-type {\n",
              "        vertical-align: middle;\n",
              "    }\n",
              "\n",
              "    .dataframe tbody tr th {\n",
              "        vertical-align: top;\n",
              "    }\n",
              "\n",
              "    .dataframe thead th {\n",
              "        text-align: right;\n",
              "    }\n",
              "</style>\n",
              "<table border=\"1\" class=\"dataframe\">\n",
              "  <thead>\n",
              "    <tr style=\"text-align: right;\">\n",
              "      <th></th>\n",
              "      <th>Region/Country/Area</th>\n",
              "      <th>Year</th>\n",
              "      <th>Data</th>\n",
              "      <th>Enrollments (Thousands)</th>\n",
              "      <th>Footnotes</th>\n",
              "    </tr>\n",
              "  </thead>\n",
              "  <tbody>\n",
              "    <tr>\n",
              "      <th>901</th>\n",
              "      <td>Australia</td>\n",
              "      <td>2005</td>\n",
              "      <td>Students enrolled in primary education (thousa...</td>\n",
              "      <td>1934.941</td>\n",
              "      <td>NaN</td>\n",
              "    </tr>\n",
              "    <tr>\n",
              "      <th>904</th>\n",
              "      <td>Australia</td>\n",
              "      <td>2010</td>\n",
              "      <td>Students enrolled in primary education (thousa...</td>\n",
              "      <td>2015.017</td>\n",
              "      <td>NaN</td>\n",
              "    </tr>\n",
              "    <tr>\n",
              "      <th>907</th>\n",
              "      <td>Australia</td>\n",
              "      <td>2014</td>\n",
              "      <td>Students enrolled in primary education (thousa...</td>\n",
              "      <td>2168.531</td>\n",
              "      <td>NaN</td>\n",
              "    </tr>\n",
              "    <tr>\n",
              "      <th>910</th>\n",
              "      <td>Australia</td>\n",
              "      <td>2015</td>\n",
              "      <td>Students enrolled in primary education (thousa...</td>\n",
              "      <td>2140.571</td>\n",
              "      <td>NaN</td>\n",
              "    </tr>\n",
              "    <tr>\n",
              "      <th>919</th>\n",
              "      <td>Australia</td>\n",
              "      <td>2017</td>\n",
              "      <td>Students enrolled in primary education (thousa...</td>\n",
              "      <td>2216.779</td>\n",
              "      <td>NaN</td>\n",
              "    </tr>\n",
              "  </tbody>\n",
              "</table>\n",
              "</div>"
            ],
            "text/plain": [
              "    Region/Country/Area  Year  ... Enrollments (Thousands)  Footnotes\n",
              "901           Australia  2005  ...                1934.941        NaN\n",
              "904           Australia  2010  ...                2015.017        NaN\n",
              "907           Australia  2014  ...                2168.531        NaN\n",
              "910           Australia  2015  ...                2140.571        NaN\n",
              "919           Australia  2017  ...                2216.779        NaN\n",
              "\n",
              "[5 rows x 5 columns]"
            ]
          },
          "metadata": {
            "tags": []
          },
          "execution_count": 26
        }
      ]
    },
    {
      "cell_type": "code",
      "metadata": {
        "colab": {
          "base_uri": "https://localhost:8080/",
          "height": 133
        },
        "id": "NYcsfL7r1iQE",
        "outputId": "c80e80af-5b66-497a-a2b7-3f466a7df10d"
      },
      "source": [
        "primary_enrollment_USA"
      ],
      "execution_count": null,
      "outputs": [
        {
          "output_type": "execute_result",
          "data": {
            "text/html": [
              "<div>\n",
              "<style scoped>\n",
              "    .dataframe tbody tr th:only-of-type {\n",
              "        vertical-align: middle;\n",
              "    }\n",
              "\n",
              "    .dataframe tbody tr th {\n",
              "        vertical-align: top;\n",
              "    }\n",
              "\n",
              "    .dataframe thead th {\n",
              "        text-align: right;\n",
              "    }\n",
              "</style>\n",
              "<table border=\"1\" class=\"dataframe\">\n",
              "  <thead>\n",
              "    <tr style=\"text-align: right;\">\n",
              "      <th></th>\n",
              "      <th>Region/Country/Area</th>\n",
              "      <th>Year</th>\n",
              "      <th>Data</th>\n",
              "      <th>Enrollments (Thousands)</th>\n",
              "      <th>Footnotes</th>\n",
              "    </tr>\n",
              "  </thead>\n",
              "  <tbody>\n",
              "    <tr>\n",
              "      <th>8529</th>\n",
              "      <td>United States of America</td>\n",
              "      <td>2014</td>\n",
              "      <td>Students enrolled in primary education (thousa...</td>\n",
              "      <td>24538.3710</td>\n",
              "      <td>NaN</td>\n",
              "    </tr>\n",
              "    <tr>\n",
              "      <th>8538</th>\n",
              "      <td>United States of America</td>\n",
              "      <td>2015</td>\n",
              "      <td>Students enrolled in primary education (thousa...</td>\n",
              "      <td>24785.6970</td>\n",
              "      <td>NaN</td>\n",
              "    </tr>\n",
              "    <tr>\n",
              "      <th>8547</th>\n",
              "      <td>United States of America</td>\n",
              "      <td>2017</td>\n",
              "      <td>Students enrolled in primary education (thousa...</td>\n",
              "      <td>25123.6772</td>\n",
              "      <td>NaN</td>\n",
              "    </tr>\n",
              "  </tbody>\n",
              "</table>\n",
              "</div>"
            ],
            "text/plain": [
              "           Region/Country/Area  Year  ... Enrollments (Thousands)  Footnotes\n",
              "8529  United States of America  2014  ...              24538.3710        NaN\n",
              "8538  United States of America  2015  ...              24785.6970        NaN\n",
              "8547  United States of America  2017  ...              25123.6772        NaN\n",
              "\n",
              "[3 rows x 5 columns]"
            ]
          },
          "metadata": {
            "tags": []
          },
          "execution_count": 27
        }
      ]
    },
    {
      "cell_type": "code",
      "metadata": {
        "id": "ql9lENq84RSh"
      },
      "source": [
        ""
      ],
      "execution_count": null,
      "outputs": []
    },
    {
      "cell_type": "markdown",
      "metadata": {
        "id": "MRb5p7CA4xxc"
      },
      "source": [
        "What was the first year in the `Year` column?"
      ]
    },
    {
      "cell_type": "code",
      "metadata": {
        "colab": {
          "base_uri": "https://localhost:8080/"
        },
        "id": "y9MFR0-c1mQH",
        "outputId": "1ca580c0-f288-4ee6-975d-e7846c709aa9"
      },
      "source": [
        "df1['Year'].value_counts()"
      ],
      "execution_count": null,
      "outputs": [
        {
          "output_type": "execute_result",
          "data": {
            "text/plain": [
              "2005    1446\n",
              "2015    1430\n",
              "2010    1421\n",
              "2014    1414\n",
              "2018     751\n",
              "2017     708\n",
              "2009     232\n",
              "2004     194\n",
              "2012     190\n",
              "2013     181\n",
              "2016     177\n",
              "2003     104\n",
              "2008     103\n",
              "2011     102\n",
              "2002      94\n",
              "2006      76\n",
              "2000      71\n",
              "2007      67\n",
              "2001      59\n",
              "2019      33\n",
              "Name: Year, dtype: int64"
            ]
          },
          "metadata": {
            "tags": []
          },
          "execution_count": 28
        }
      ]
    },
    {
      "cell_type": "code",
      "metadata": {
        "id": "b73ZTQP24WTS"
      },
      "source": [
        ""
      ],
      "execution_count": null,
      "outputs": []
    },
    {
      "cell_type": "code",
      "metadata": {
        "colab": {
          "base_uri": "https://localhost:8080/"
        },
        "id": "Y2a7_KpI4_B0",
        "outputId": "379628aa-b666-4fd5-b2f7-7cd8db14c6f1"
      },
      "source": [
        "missing_years = [y for y in range(2000,2005)] + [y for y in range(2006,2010)] + [y for y in range(2011,2014)] + [2016] + [y for y in range(2018,2020)]\n",
        "missing_years"
      ],
      "execution_count": null,
      "outputs": [
        {
          "output_type": "execute_result",
          "data": {
            "text/plain": [
              "[2000,\n",
              " 2001,\n",
              " 2002,\n",
              " 2003,\n",
              " 2004,\n",
              " 2006,\n",
              " 2007,\n",
              " 2008,\n",
              " 2009,\n",
              " 2011,\n",
              " 2012,\n",
              " 2013,\n",
              " 2016,\n",
              " 2018,\n",
              " 2019]"
            ]
          },
          "metadata": {
            "tags": []
          },
          "execution_count": 29
        }
      ]
    },
    {
      "cell_type": "markdown",
      "metadata": {
        "id": "PFX72zar69gE"
      },
      "source": [
        "Let's create a dictionary for missing data"
      ]
    },
    {
      "cell_type": "code",
      "metadata": {
        "id": "cWTW8iNP6Bgj"
      },
      "source": [
        "import numpy as np"
      ],
      "execution_count": null,
      "outputs": []
    },
    {
      "cell_type": "code",
      "metadata": {
        "id": "Fu9OwACG7Ffg"
      },
      "source": [
        "dict_missing = {'Region/Country/Area':['Australia']*15,\n",
        "                'Year':missing_years,\n",
        "                'Data':'Students enrolled in primary education (thousands)'*15,\n",
        "                'Enrollments (Thousands)':[np.nan]*15,\n",
        "                'Footnotes':[np.nan]*15\n",
        "                }"
      ],
      "execution_count": null,
      "outputs": []
    },
    {
      "cell_type": "code",
      "metadata": {
        "id": "tAYBD2gT7PKT"
      },
      "source": [
        "df_missing = pd.DataFrame(data = dict_missing) "
      ],
      "execution_count": null,
      "outputs": []
    },
    {
      "cell_type": "markdown",
      "metadata": {
        "id": "oNqh_397HIDR"
      },
      "source": [
        "let's paste the missed parts"
      ]
    },
    {
      "cell_type": "code",
      "metadata": {
        "id": "EL00_J-c7Rub"
      },
      "source": [
        "primary_enrollment_Australia = primary_enrollment_Australia.append(df_missing , ignore_index=True , sort=True)"
      ],
      "execution_count": null,
      "outputs": []
    },
    {
      "cell_type": "code",
      "metadata": {
        "colab": {
          "base_uri": "https://localhost:8080/",
          "height": 622
        },
        "id": "lzT_qx1F7vRo",
        "outputId": "27b14b06-aecb-4ef5-ae61-5f8a936d3cba"
      },
      "source": [
        "primary_enrollment_Australia"
      ],
      "execution_count": null,
      "outputs": [
        {
          "output_type": "execute_result",
          "data": {
            "text/html": [
              "<div>\n",
              "<style scoped>\n",
              "    .dataframe tbody tr th:only-of-type {\n",
              "        vertical-align: middle;\n",
              "    }\n",
              "\n",
              "    .dataframe tbody tr th {\n",
              "        vertical-align: top;\n",
              "    }\n",
              "\n",
              "    .dataframe thead th {\n",
              "        text-align: right;\n",
              "    }\n",
              "</style>\n",
              "<table border=\"1\" class=\"dataframe\">\n",
              "  <thead>\n",
              "    <tr style=\"text-align: right;\">\n",
              "      <th></th>\n",
              "      <th>Data</th>\n",
              "      <th>Enrollments (Thousands)</th>\n",
              "      <th>Footnotes</th>\n",
              "      <th>Region/Country/Area</th>\n",
              "      <th>Year</th>\n",
              "    </tr>\n",
              "  </thead>\n",
              "  <tbody>\n",
              "    <tr>\n",
              "      <th>0</th>\n",
              "      <td>Students enrolled in primary education (thousa...</td>\n",
              "      <td>1934.941</td>\n",
              "      <td>NaN</td>\n",
              "      <td>Australia</td>\n",
              "      <td>2005</td>\n",
              "    </tr>\n",
              "    <tr>\n",
              "      <th>1</th>\n",
              "      <td>Students enrolled in primary education (thousa...</td>\n",
              "      <td>2015.017</td>\n",
              "      <td>NaN</td>\n",
              "      <td>Australia</td>\n",
              "      <td>2010</td>\n",
              "    </tr>\n",
              "    <tr>\n",
              "      <th>2</th>\n",
              "      <td>Students enrolled in primary education (thousa...</td>\n",
              "      <td>2168.531</td>\n",
              "      <td>NaN</td>\n",
              "      <td>Australia</td>\n",
              "      <td>2014</td>\n",
              "    </tr>\n",
              "    <tr>\n",
              "      <th>3</th>\n",
              "      <td>Students enrolled in primary education (thousa...</td>\n",
              "      <td>2140.571</td>\n",
              "      <td>NaN</td>\n",
              "      <td>Australia</td>\n",
              "      <td>2015</td>\n",
              "    </tr>\n",
              "    <tr>\n",
              "      <th>4</th>\n",
              "      <td>Students enrolled in primary education (thousa...</td>\n",
              "      <td>2216.779</td>\n",
              "      <td>NaN</td>\n",
              "      <td>Australia</td>\n",
              "      <td>2017</td>\n",
              "    </tr>\n",
              "    <tr>\n",
              "      <th>5</th>\n",
              "      <td>Students enrolled in primary education (thousa...</td>\n",
              "      <td>NaN</td>\n",
              "      <td>NaN</td>\n",
              "      <td>Australia</td>\n",
              "      <td>2000</td>\n",
              "    </tr>\n",
              "    <tr>\n",
              "      <th>6</th>\n",
              "      <td>Students enrolled in primary education (thousa...</td>\n",
              "      <td>NaN</td>\n",
              "      <td>NaN</td>\n",
              "      <td>Australia</td>\n",
              "      <td>2001</td>\n",
              "    </tr>\n",
              "    <tr>\n",
              "      <th>7</th>\n",
              "      <td>Students enrolled in primary education (thousa...</td>\n",
              "      <td>NaN</td>\n",
              "      <td>NaN</td>\n",
              "      <td>Australia</td>\n",
              "      <td>2002</td>\n",
              "    </tr>\n",
              "    <tr>\n",
              "      <th>8</th>\n",
              "      <td>Students enrolled in primary education (thousa...</td>\n",
              "      <td>NaN</td>\n",
              "      <td>NaN</td>\n",
              "      <td>Australia</td>\n",
              "      <td>2003</td>\n",
              "    </tr>\n",
              "    <tr>\n",
              "      <th>9</th>\n",
              "      <td>Students enrolled in primary education (thousa...</td>\n",
              "      <td>NaN</td>\n",
              "      <td>NaN</td>\n",
              "      <td>Australia</td>\n",
              "      <td>2004</td>\n",
              "    </tr>\n",
              "    <tr>\n",
              "      <th>10</th>\n",
              "      <td>Students enrolled in primary education (thousa...</td>\n",
              "      <td>NaN</td>\n",
              "      <td>NaN</td>\n",
              "      <td>Australia</td>\n",
              "      <td>2006</td>\n",
              "    </tr>\n",
              "    <tr>\n",
              "      <th>11</th>\n",
              "      <td>Students enrolled in primary education (thousa...</td>\n",
              "      <td>NaN</td>\n",
              "      <td>NaN</td>\n",
              "      <td>Australia</td>\n",
              "      <td>2007</td>\n",
              "    </tr>\n",
              "    <tr>\n",
              "      <th>12</th>\n",
              "      <td>Students enrolled in primary education (thousa...</td>\n",
              "      <td>NaN</td>\n",
              "      <td>NaN</td>\n",
              "      <td>Australia</td>\n",
              "      <td>2008</td>\n",
              "    </tr>\n",
              "    <tr>\n",
              "      <th>13</th>\n",
              "      <td>Students enrolled in primary education (thousa...</td>\n",
              "      <td>NaN</td>\n",
              "      <td>NaN</td>\n",
              "      <td>Australia</td>\n",
              "      <td>2009</td>\n",
              "    </tr>\n",
              "    <tr>\n",
              "      <th>14</th>\n",
              "      <td>Students enrolled in primary education (thousa...</td>\n",
              "      <td>NaN</td>\n",
              "      <td>NaN</td>\n",
              "      <td>Australia</td>\n",
              "      <td>2011</td>\n",
              "    </tr>\n",
              "    <tr>\n",
              "      <th>15</th>\n",
              "      <td>Students enrolled in primary education (thousa...</td>\n",
              "      <td>NaN</td>\n",
              "      <td>NaN</td>\n",
              "      <td>Australia</td>\n",
              "      <td>2012</td>\n",
              "    </tr>\n",
              "    <tr>\n",
              "      <th>16</th>\n",
              "      <td>Students enrolled in primary education (thousa...</td>\n",
              "      <td>NaN</td>\n",
              "      <td>NaN</td>\n",
              "      <td>Australia</td>\n",
              "      <td>2013</td>\n",
              "    </tr>\n",
              "    <tr>\n",
              "      <th>17</th>\n",
              "      <td>Students enrolled in primary education (thousa...</td>\n",
              "      <td>NaN</td>\n",
              "      <td>NaN</td>\n",
              "      <td>Australia</td>\n",
              "      <td>2016</td>\n",
              "    </tr>\n",
              "    <tr>\n",
              "      <th>18</th>\n",
              "      <td>Students enrolled in primary education (thousa...</td>\n",
              "      <td>NaN</td>\n",
              "      <td>NaN</td>\n",
              "      <td>Australia</td>\n",
              "      <td>2018</td>\n",
              "    </tr>\n",
              "    <tr>\n",
              "      <th>19</th>\n",
              "      <td>Students enrolled in primary education (thousa...</td>\n",
              "      <td>NaN</td>\n",
              "      <td>NaN</td>\n",
              "      <td>Australia</td>\n",
              "      <td>2019</td>\n",
              "    </tr>\n",
              "  </tbody>\n",
              "</table>\n",
              "</div>"
            ],
            "text/plain": [
              "                                                 Data  ...  Year\n",
              "0   Students enrolled in primary education (thousa...  ...  2005\n",
              "1   Students enrolled in primary education (thousa...  ...  2010\n",
              "2   Students enrolled in primary education (thousa...  ...  2014\n",
              "3   Students enrolled in primary education (thousa...  ...  2015\n",
              "4   Students enrolled in primary education (thousa...  ...  2017\n",
              "5   Students enrolled in primary education (thousa...  ...  2000\n",
              "6   Students enrolled in primary education (thousa...  ...  2001\n",
              "7   Students enrolled in primary education (thousa...  ...  2002\n",
              "8   Students enrolled in primary education (thousa...  ...  2003\n",
              "9   Students enrolled in primary education (thousa...  ...  2004\n",
              "10  Students enrolled in primary education (thousa...  ...  2006\n",
              "11  Students enrolled in primary education (thousa...  ...  2007\n",
              "12  Students enrolled in primary education (thousa...  ...  2008\n",
              "13  Students enrolled in primary education (thousa...  ...  2009\n",
              "14  Students enrolled in primary education (thousa...  ...  2011\n",
              "15  Students enrolled in primary education (thousa...  ...  2012\n",
              "16  Students enrolled in primary education (thousa...  ...  2013\n",
              "17  Students enrolled in primary education (thousa...  ...  2016\n",
              "18  Students enrolled in primary education (thousa...  ...  2018\n",
              "19  Students enrolled in primary education (thousa...  ...  2019\n",
              "\n",
              "[20 rows x 5 columns]"
            ]
          },
          "metadata": {
            "tags": []
          },
          "execution_count": 34
        }
      ]
    },
    {
      "cell_type": "code",
      "metadata": {
        "id": "7qpV6VHaHYPK"
      },
      "source": [
        ""
      ],
      "execution_count": null,
      "outputs": []
    },
    {
      "cell_type": "markdown",
      "metadata": {
        "id": "fb6C-i6fGzto"
      },
      "source": [
        "Let's sort the data frame based on year"
      ]
    },
    {
      "cell_type": "code",
      "metadata": {
        "id": "DBOya7ZU7xsw"
      },
      "source": [
        "primary_enrollment_Australia.sort_values(['Year'], inplace=True)"
      ],
      "execution_count": null,
      "outputs": []
    },
    {
      "cell_type": "code",
      "metadata": {
        "colab": {
          "base_uri": "https://localhost:8080/",
          "height": 622
        },
        "id": "hsyW1M6n8RzR",
        "outputId": "cb854f59-84ef-4843-fc17-3b6abaf4506e"
      },
      "source": [
        "primary_enrollment_Australia"
      ],
      "execution_count": null,
      "outputs": [
        {
          "output_type": "execute_result",
          "data": {
            "text/html": [
              "<div>\n",
              "<style scoped>\n",
              "    .dataframe tbody tr th:only-of-type {\n",
              "        vertical-align: middle;\n",
              "    }\n",
              "\n",
              "    .dataframe tbody tr th {\n",
              "        vertical-align: top;\n",
              "    }\n",
              "\n",
              "    .dataframe thead th {\n",
              "        text-align: right;\n",
              "    }\n",
              "</style>\n",
              "<table border=\"1\" class=\"dataframe\">\n",
              "  <thead>\n",
              "    <tr style=\"text-align: right;\">\n",
              "      <th></th>\n",
              "      <th>Data</th>\n",
              "      <th>Enrollments (Thousands)</th>\n",
              "      <th>Footnotes</th>\n",
              "      <th>Region/Country/Area</th>\n",
              "      <th>Year</th>\n",
              "    </tr>\n",
              "  </thead>\n",
              "  <tbody>\n",
              "    <tr>\n",
              "      <th>5</th>\n",
              "      <td>Students enrolled in primary education (thousa...</td>\n",
              "      <td>NaN</td>\n",
              "      <td>NaN</td>\n",
              "      <td>Australia</td>\n",
              "      <td>2000</td>\n",
              "    </tr>\n",
              "    <tr>\n",
              "      <th>6</th>\n",
              "      <td>Students enrolled in primary education (thousa...</td>\n",
              "      <td>NaN</td>\n",
              "      <td>NaN</td>\n",
              "      <td>Australia</td>\n",
              "      <td>2001</td>\n",
              "    </tr>\n",
              "    <tr>\n",
              "      <th>7</th>\n",
              "      <td>Students enrolled in primary education (thousa...</td>\n",
              "      <td>NaN</td>\n",
              "      <td>NaN</td>\n",
              "      <td>Australia</td>\n",
              "      <td>2002</td>\n",
              "    </tr>\n",
              "    <tr>\n",
              "      <th>8</th>\n",
              "      <td>Students enrolled in primary education (thousa...</td>\n",
              "      <td>NaN</td>\n",
              "      <td>NaN</td>\n",
              "      <td>Australia</td>\n",
              "      <td>2003</td>\n",
              "    </tr>\n",
              "    <tr>\n",
              "      <th>9</th>\n",
              "      <td>Students enrolled in primary education (thousa...</td>\n",
              "      <td>NaN</td>\n",
              "      <td>NaN</td>\n",
              "      <td>Australia</td>\n",
              "      <td>2004</td>\n",
              "    </tr>\n",
              "    <tr>\n",
              "      <th>0</th>\n",
              "      <td>Students enrolled in primary education (thousa...</td>\n",
              "      <td>1934.941</td>\n",
              "      <td>NaN</td>\n",
              "      <td>Australia</td>\n",
              "      <td>2005</td>\n",
              "    </tr>\n",
              "    <tr>\n",
              "      <th>10</th>\n",
              "      <td>Students enrolled in primary education (thousa...</td>\n",
              "      <td>NaN</td>\n",
              "      <td>NaN</td>\n",
              "      <td>Australia</td>\n",
              "      <td>2006</td>\n",
              "    </tr>\n",
              "    <tr>\n",
              "      <th>11</th>\n",
              "      <td>Students enrolled in primary education (thousa...</td>\n",
              "      <td>NaN</td>\n",
              "      <td>NaN</td>\n",
              "      <td>Australia</td>\n",
              "      <td>2007</td>\n",
              "    </tr>\n",
              "    <tr>\n",
              "      <th>12</th>\n",
              "      <td>Students enrolled in primary education (thousa...</td>\n",
              "      <td>NaN</td>\n",
              "      <td>NaN</td>\n",
              "      <td>Australia</td>\n",
              "      <td>2008</td>\n",
              "    </tr>\n",
              "    <tr>\n",
              "      <th>13</th>\n",
              "      <td>Students enrolled in primary education (thousa...</td>\n",
              "      <td>NaN</td>\n",
              "      <td>NaN</td>\n",
              "      <td>Australia</td>\n",
              "      <td>2009</td>\n",
              "    </tr>\n",
              "    <tr>\n",
              "      <th>1</th>\n",
              "      <td>Students enrolled in primary education (thousa...</td>\n",
              "      <td>2015.017</td>\n",
              "      <td>NaN</td>\n",
              "      <td>Australia</td>\n",
              "      <td>2010</td>\n",
              "    </tr>\n",
              "    <tr>\n",
              "      <th>14</th>\n",
              "      <td>Students enrolled in primary education (thousa...</td>\n",
              "      <td>NaN</td>\n",
              "      <td>NaN</td>\n",
              "      <td>Australia</td>\n",
              "      <td>2011</td>\n",
              "    </tr>\n",
              "    <tr>\n",
              "      <th>15</th>\n",
              "      <td>Students enrolled in primary education (thousa...</td>\n",
              "      <td>NaN</td>\n",
              "      <td>NaN</td>\n",
              "      <td>Australia</td>\n",
              "      <td>2012</td>\n",
              "    </tr>\n",
              "    <tr>\n",
              "      <th>16</th>\n",
              "      <td>Students enrolled in primary education (thousa...</td>\n",
              "      <td>NaN</td>\n",
              "      <td>NaN</td>\n",
              "      <td>Australia</td>\n",
              "      <td>2013</td>\n",
              "    </tr>\n",
              "    <tr>\n",
              "      <th>2</th>\n",
              "      <td>Students enrolled in primary education (thousa...</td>\n",
              "      <td>2168.531</td>\n",
              "      <td>NaN</td>\n",
              "      <td>Australia</td>\n",
              "      <td>2014</td>\n",
              "    </tr>\n",
              "    <tr>\n",
              "      <th>3</th>\n",
              "      <td>Students enrolled in primary education (thousa...</td>\n",
              "      <td>2140.571</td>\n",
              "      <td>NaN</td>\n",
              "      <td>Australia</td>\n",
              "      <td>2015</td>\n",
              "    </tr>\n",
              "    <tr>\n",
              "      <th>17</th>\n",
              "      <td>Students enrolled in primary education (thousa...</td>\n",
              "      <td>NaN</td>\n",
              "      <td>NaN</td>\n",
              "      <td>Australia</td>\n",
              "      <td>2016</td>\n",
              "    </tr>\n",
              "    <tr>\n",
              "      <th>4</th>\n",
              "      <td>Students enrolled in primary education (thousa...</td>\n",
              "      <td>2216.779</td>\n",
              "      <td>NaN</td>\n",
              "      <td>Australia</td>\n",
              "      <td>2017</td>\n",
              "    </tr>\n",
              "    <tr>\n",
              "      <th>18</th>\n",
              "      <td>Students enrolled in primary education (thousa...</td>\n",
              "      <td>NaN</td>\n",
              "      <td>NaN</td>\n",
              "      <td>Australia</td>\n",
              "      <td>2018</td>\n",
              "    </tr>\n",
              "    <tr>\n",
              "      <th>19</th>\n",
              "      <td>Students enrolled in primary education (thousa...</td>\n",
              "      <td>NaN</td>\n",
              "      <td>NaN</td>\n",
              "      <td>Australia</td>\n",
              "      <td>2019</td>\n",
              "    </tr>\n",
              "  </tbody>\n",
              "</table>\n",
              "</div>"
            ],
            "text/plain": [
              "                                                 Data  ...  Year\n",
              "5   Students enrolled in primary education (thousa...  ...  2000\n",
              "6   Students enrolled in primary education (thousa...  ...  2001\n",
              "7   Students enrolled in primary education (thousa...  ...  2002\n",
              "8   Students enrolled in primary education (thousa...  ...  2003\n",
              "9   Students enrolled in primary education (thousa...  ...  2004\n",
              "0   Students enrolled in primary education (thousa...  ...  2005\n",
              "10  Students enrolled in primary education (thousa...  ...  2006\n",
              "11  Students enrolled in primary education (thousa...  ...  2007\n",
              "12  Students enrolled in primary education (thousa...  ...  2008\n",
              "13  Students enrolled in primary education (thousa...  ...  2009\n",
              "1   Students enrolled in primary education (thousa...  ...  2010\n",
              "14  Students enrolled in primary education (thousa...  ...  2011\n",
              "15  Students enrolled in primary education (thousa...  ...  2012\n",
              "16  Students enrolled in primary education (thousa...  ...  2013\n",
              "2   Students enrolled in primary education (thousa...  ...  2014\n",
              "3   Students enrolled in primary education (thousa...  ...  2015\n",
              "17  Students enrolled in primary education (thousa...  ...  2016\n",
              "4   Students enrolled in primary education (thousa...  ...  2017\n",
              "18  Students enrolled in primary education (thousa...  ...  2018\n",
              "19  Students enrolled in primary education (thousa...  ...  2019\n",
              "\n",
              "[20 rows x 5 columns]"
            ]
          },
          "metadata": {
            "tags": []
          },
          "execution_count": 36
        }
      ]
    },
    {
      "cell_type": "code",
      "metadata": {
        "id": "U75x4IShHcxt"
      },
      "source": [
        ""
      ],
      "execution_count": null,
      "outputs": []
    },
    {
      "cell_type": "code",
      "metadata": {
        "id": "szuYPRut8Ti0"
      },
      "source": [
        "primary_enrollment_Australia.reset_index(inplace=True , drop=True)"
      ],
      "execution_count": null,
      "outputs": []
    },
    {
      "cell_type": "code",
      "metadata": {
        "colab": {
          "base_uri": "https://localhost:8080/",
          "height": 622
        },
        "id": "vJJu26vV8u-q",
        "outputId": "3212bb31-1073-48a3-b19e-6cae25576aa2"
      },
      "source": [
        "primary_enrollment_Australia"
      ],
      "execution_count": null,
      "outputs": [
        {
          "output_type": "execute_result",
          "data": {
            "text/html": [
              "<div>\n",
              "<style scoped>\n",
              "    .dataframe tbody tr th:only-of-type {\n",
              "        vertical-align: middle;\n",
              "    }\n",
              "\n",
              "    .dataframe tbody tr th {\n",
              "        vertical-align: top;\n",
              "    }\n",
              "\n",
              "    .dataframe thead th {\n",
              "        text-align: right;\n",
              "    }\n",
              "</style>\n",
              "<table border=\"1\" class=\"dataframe\">\n",
              "  <thead>\n",
              "    <tr style=\"text-align: right;\">\n",
              "      <th></th>\n",
              "      <th>Data</th>\n",
              "      <th>Enrollments (Thousands)</th>\n",
              "      <th>Footnotes</th>\n",
              "      <th>Region/Country/Area</th>\n",
              "      <th>Year</th>\n",
              "    </tr>\n",
              "  </thead>\n",
              "  <tbody>\n",
              "    <tr>\n",
              "      <th>0</th>\n",
              "      <td>Students enrolled in primary education (thousa...</td>\n",
              "      <td>NaN</td>\n",
              "      <td>NaN</td>\n",
              "      <td>Australia</td>\n",
              "      <td>2000</td>\n",
              "    </tr>\n",
              "    <tr>\n",
              "      <th>1</th>\n",
              "      <td>Students enrolled in primary education (thousa...</td>\n",
              "      <td>NaN</td>\n",
              "      <td>NaN</td>\n",
              "      <td>Australia</td>\n",
              "      <td>2001</td>\n",
              "    </tr>\n",
              "    <tr>\n",
              "      <th>2</th>\n",
              "      <td>Students enrolled in primary education (thousa...</td>\n",
              "      <td>NaN</td>\n",
              "      <td>NaN</td>\n",
              "      <td>Australia</td>\n",
              "      <td>2002</td>\n",
              "    </tr>\n",
              "    <tr>\n",
              "      <th>3</th>\n",
              "      <td>Students enrolled in primary education (thousa...</td>\n",
              "      <td>NaN</td>\n",
              "      <td>NaN</td>\n",
              "      <td>Australia</td>\n",
              "      <td>2003</td>\n",
              "    </tr>\n",
              "    <tr>\n",
              "      <th>4</th>\n",
              "      <td>Students enrolled in primary education (thousa...</td>\n",
              "      <td>NaN</td>\n",
              "      <td>NaN</td>\n",
              "      <td>Australia</td>\n",
              "      <td>2004</td>\n",
              "    </tr>\n",
              "    <tr>\n",
              "      <th>5</th>\n",
              "      <td>Students enrolled in primary education (thousa...</td>\n",
              "      <td>1934.941</td>\n",
              "      <td>NaN</td>\n",
              "      <td>Australia</td>\n",
              "      <td>2005</td>\n",
              "    </tr>\n",
              "    <tr>\n",
              "      <th>6</th>\n",
              "      <td>Students enrolled in primary education (thousa...</td>\n",
              "      <td>NaN</td>\n",
              "      <td>NaN</td>\n",
              "      <td>Australia</td>\n",
              "      <td>2006</td>\n",
              "    </tr>\n",
              "    <tr>\n",
              "      <th>7</th>\n",
              "      <td>Students enrolled in primary education (thousa...</td>\n",
              "      <td>NaN</td>\n",
              "      <td>NaN</td>\n",
              "      <td>Australia</td>\n",
              "      <td>2007</td>\n",
              "    </tr>\n",
              "    <tr>\n",
              "      <th>8</th>\n",
              "      <td>Students enrolled in primary education (thousa...</td>\n",
              "      <td>NaN</td>\n",
              "      <td>NaN</td>\n",
              "      <td>Australia</td>\n",
              "      <td>2008</td>\n",
              "    </tr>\n",
              "    <tr>\n",
              "      <th>9</th>\n",
              "      <td>Students enrolled in primary education (thousa...</td>\n",
              "      <td>NaN</td>\n",
              "      <td>NaN</td>\n",
              "      <td>Australia</td>\n",
              "      <td>2009</td>\n",
              "    </tr>\n",
              "    <tr>\n",
              "      <th>10</th>\n",
              "      <td>Students enrolled in primary education (thousa...</td>\n",
              "      <td>2015.017</td>\n",
              "      <td>NaN</td>\n",
              "      <td>Australia</td>\n",
              "      <td>2010</td>\n",
              "    </tr>\n",
              "    <tr>\n",
              "      <th>11</th>\n",
              "      <td>Students enrolled in primary education (thousa...</td>\n",
              "      <td>NaN</td>\n",
              "      <td>NaN</td>\n",
              "      <td>Australia</td>\n",
              "      <td>2011</td>\n",
              "    </tr>\n",
              "    <tr>\n",
              "      <th>12</th>\n",
              "      <td>Students enrolled in primary education (thousa...</td>\n",
              "      <td>NaN</td>\n",
              "      <td>NaN</td>\n",
              "      <td>Australia</td>\n",
              "      <td>2012</td>\n",
              "    </tr>\n",
              "    <tr>\n",
              "      <th>13</th>\n",
              "      <td>Students enrolled in primary education (thousa...</td>\n",
              "      <td>NaN</td>\n",
              "      <td>NaN</td>\n",
              "      <td>Australia</td>\n",
              "      <td>2013</td>\n",
              "    </tr>\n",
              "    <tr>\n",
              "      <th>14</th>\n",
              "      <td>Students enrolled in primary education (thousa...</td>\n",
              "      <td>2168.531</td>\n",
              "      <td>NaN</td>\n",
              "      <td>Australia</td>\n",
              "      <td>2014</td>\n",
              "    </tr>\n",
              "    <tr>\n",
              "      <th>15</th>\n",
              "      <td>Students enrolled in primary education (thousa...</td>\n",
              "      <td>2140.571</td>\n",
              "      <td>NaN</td>\n",
              "      <td>Australia</td>\n",
              "      <td>2015</td>\n",
              "    </tr>\n",
              "    <tr>\n",
              "      <th>16</th>\n",
              "      <td>Students enrolled in primary education (thousa...</td>\n",
              "      <td>NaN</td>\n",
              "      <td>NaN</td>\n",
              "      <td>Australia</td>\n",
              "      <td>2016</td>\n",
              "    </tr>\n",
              "    <tr>\n",
              "      <th>17</th>\n",
              "      <td>Students enrolled in primary education (thousa...</td>\n",
              "      <td>2216.779</td>\n",
              "      <td>NaN</td>\n",
              "      <td>Australia</td>\n",
              "      <td>2017</td>\n",
              "    </tr>\n",
              "    <tr>\n",
              "      <th>18</th>\n",
              "      <td>Students enrolled in primary education (thousa...</td>\n",
              "      <td>NaN</td>\n",
              "      <td>NaN</td>\n",
              "      <td>Australia</td>\n",
              "      <td>2018</td>\n",
              "    </tr>\n",
              "    <tr>\n",
              "      <th>19</th>\n",
              "      <td>Students enrolled in primary education (thousa...</td>\n",
              "      <td>NaN</td>\n",
              "      <td>NaN</td>\n",
              "      <td>Australia</td>\n",
              "      <td>2019</td>\n",
              "    </tr>\n",
              "  </tbody>\n",
              "</table>\n",
              "</div>"
            ],
            "text/plain": [
              "                                                 Data  ...  Year\n",
              "0   Students enrolled in primary education (thousa...  ...  2000\n",
              "1   Students enrolled in primary education (thousa...  ...  2001\n",
              "2   Students enrolled in primary education (thousa...  ...  2002\n",
              "3   Students enrolled in primary education (thousa...  ...  2003\n",
              "4   Students enrolled in primary education (thousa...  ...  2004\n",
              "5   Students enrolled in primary education (thousa...  ...  2005\n",
              "6   Students enrolled in primary education (thousa...  ...  2006\n",
              "7   Students enrolled in primary education (thousa...  ...  2007\n",
              "8   Students enrolled in primary education (thousa...  ...  2008\n",
              "9   Students enrolled in primary education (thousa...  ...  2009\n",
              "10  Students enrolled in primary education (thousa...  ...  2010\n",
              "11  Students enrolled in primary education (thousa...  ...  2011\n",
              "12  Students enrolled in primary education (thousa...  ...  2012\n",
              "13  Students enrolled in primary education (thousa...  ...  2013\n",
              "14  Students enrolled in primary education (thousa...  ...  2014\n",
              "15  Students enrolled in primary education (thousa...  ...  2015\n",
              "16  Students enrolled in primary education (thousa...  ...  2016\n",
              "17  Students enrolled in primary education (thousa...  ...  2017\n",
              "18  Students enrolled in primary education (thousa...  ...  2018\n",
              "19  Students enrolled in primary education (thousa...  ...  2019\n",
              "\n",
              "[20 rows x 5 columns]"
            ]
          },
          "metadata": {
            "tags": []
          },
          "execution_count": 38
        }
      ]
    },
    {
      "cell_type": "code",
      "metadata": {
        "id": "5xFM6iXg8wIo"
      },
      "source": [
        ""
      ],
      "execution_count": null,
      "outputs": []
    },
    {
      "cell_type": "markdown",
      "metadata": {
        "id": "nUAVxjQOHeqn"
      },
      "source": [
        "Let's fill the `Enrollments (Thousands)` column"
      ]
    },
    {
      "cell_type": "code",
      "metadata": {
        "id": "2DRTUCnO9chw"
      },
      "source": [
        "primary_enrollment_Australia.interpolate(inplace=True)"
      ],
      "execution_count": null,
      "outputs": []
    },
    {
      "cell_type": "code",
      "metadata": {
        "colab": {
          "base_uri": "https://localhost:8080/",
          "height": 622
        },
        "id": "OgmBROX99gg0",
        "outputId": "1d6d5db3-f26e-474e-e96c-cda6614f258a"
      },
      "source": [
        "primary_enrollment_Australia"
      ],
      "execution_count": null,
      "outputs": [
        {
          "output_type": "execute_result",
          "data": {
            "text/html": [
              "<div>\n",
              "<style scoped>\n",
              "    .dataframe tbody tr th:only-of-type {\n",
              "        vertical-align: middle;\n",
              "    }\n",
              "\n",
              "    .dataframe tbody tr th {\n",
              "        vertical-align: top;\n",
              "    }\n",
              "\n",
              "    .dataframe thead th {\n",
              "        text-align: right;\n",
              "    }\n",
              "</style>\n",
              "<table border=\"1\" class=\"dataframe\">\n",
              "  <thead>\n",
              "    <tr style=\"text-align: right;\">\n",
              "      <th></th>\n",
              "      <th>Data</th>\n",
              "      <th>Enrollments (Thousands)</th>\n",
              "      <th>Footnotes</th>\n",
              "      <th>Region/Country/Area</th>\n",
              "      <th>Year</th>\n",
              "    </tr>\n",
              "  </thead>\n",
              "  <tbody>\n",
              "    <tr>\n",
              "      <th>0</th>\n",
              "      <td>Students enrolled in primary education (thousa...</td>\n",
              "      <td>NaN</td>\n",
              "      <td>NaN</td>\n",
              "      <td>Australia</td>\n",
              "      <td>2000</td>\n",
              "    </tr>\n",
              "    <tr>\n",
              "      <th>1</th>\n",
              "      <td>Students enrolled in primary education (thousa...</td>\n",
              "      <td>NaN</td>\n",
              "      <td>NaN</td>\n",
              "      <td>Australia</td>\n",
              "      <td>2001</td>\n",
              "    </tr>\n",
              "    <tr>\n",
              "      <th>2</th>\n",
              "      <td>Students enrolled in primary education (thousa...</td>\n",
              "      <td>NaN</td>\n",
              "      <td>NaN</td>\n",
              "      <td>Australia</td>\n",
              "      <td>2002</td>\n",
              "    </tr>\n",
              "    <tr>\n",
              "      <th>3</th>\n",
              "      <td>Students enrolled in primary education (thousa...</td>\n",
              "      <td>NaN</td>\n",
              "      <td>NaN</td>\n",
              "      <td>Australia</td>\n",
              "      <td>2003</td>\n",
              "    </tr>\n",
              "    <tr>\n",
              "      <th>4</th>\n",
              "      <td>Students enrolled in primary education (thousa...</td>\n",
              "      <td>NaN</td>\n",
              "      <td>NaN</td>\n",
              "      <td>Australia</td>\n",
              "      <td>2004</td>\n",
              "    </tr>\n",
              "    <tr>\n",
              "      <th>5</th>\n",
              "      <td>Students enrolled in primary education (thousa...</td>\n",
              "      <td>1934.9410</td>\n",
              "      <td>NaN</td>\n",
              "      <td>Australia</td>\n",
              "      <td>2005</td>\n",
              "    </tr>\n",
              "    <tr>\n",
              "      <th>6</th>\n",
              "      <td>Students enrolled in primary education (thousa...</td>\n",
              "      <td>1950.9562</td>\n",
              "      <td>NaN</td>\n",
              "      <td>Australia</td>\n",
              "      <td>2006</td>\n",
              "    </tr>\n",
              "    <tr>\n",
              "      <th>7</th>\n",
              "      <td>Students enrolled in primary education (thousa...</td>\n",
              "      <td>1966.9714</td>\n",
              "      <td>NaN</td>\n",
              "      <td>Australia</td>\n",
              "      <td>2007</td>\n",
              "    </tr>\n",
              "    <tr>\n",
              "      <th>8</th>\n",
              "      <td>Students enrolled in primary education (thousa...</td>\n",
              "      <td>1982.9866</td>\n",
              "      <td>NaN</td>\n",
              "      <td>Australia</td>\n",
              "      <td>2008</td>\n",
              "    </tr>\n",
              "    <tr>\n",
              "      <th>9</th>\n",
              "      <td>Students enrolled in primary education (thousa...</td>\n",
              "      <td>1999.0018</td>\n",
              "      <td>NaN</td>\n",
              "      <td>Australia</td>\n",
              "      <td>2009</td>\n",
              "    </tr>\n",
              "    <tr>\n",
              "      <th>10</th>\n",
              "      <td>Students enrolled in primary education (thousa...</td>\n",
              "      <td>2015.0170</td>\n",
              "      <td>NaN</td>\n",
              "      <td>Australia</td>\n",
              "      <td>2010</td>\n",
              "    </tr>\n",
              "    <tr>\n",
              "      <th>11</th>\n",
              "      <td>Students enrolled in primary education (thousa...</td>\n",
              "      <td>2053.3955</td>\n",
              "      <td>NaN</td>\n",
              "      <td>Australia</td>\n",
              "      <td>2011</td>\n",
              "    </tr>\n",
              "    <tr>\n",
              "      <th>12</th>\n",
              "      <td>Students enrolled in primary education (thousa...</td>\n",
              "      <td>2091.7740</td>\n",
              "      <td>NaN</td>\n",
              "      <td>Australia</td>\n",
              "      <td>2012</td>\n",
              "    </tr>\n",
              "    <tr>\n",
              "      <th>13</th>\n",
              "      <td>Students enrolled in primary education (thousa...</td>\n",
              "      <td>2130.1525</td>\n",
              "      <td>NaN</td>\n",
              "      <td>Australia</td>\n",
              "      <td>2013</td>\n",
              "    </tr>\n",
              "    <tr>\n",
              "      <th>14</th>\n",
              "      <td>Students enrolled in primary education (thousa...</td>\n",
              "      <td>2168.5310</td>\n",
              "      <td>NaN</td>\n",
              "      <td>Australia</td>\n",
              "      <td>2014</td>\n",
              "    </tr>\n",
              "    <tr>\n",
              "      <th>15</th>\n",
              "      <td>Students enrolled in primary education (thousa...</td>\n",
              "      <td>2140.5710</td>\n",
              "      <td>NaN</td>\n",
              "      <td>Australia</td>\n",
              "      <td>2015</td>\n",
              "    </tr>\n",
              "    <tr>\n",
              "      <th>16</th>\n",
              "      <td>Students enrolled in primary education (thousa...</td>\n",
              "      <td>2178.6750</td>\n",
              "      <td>NaN</td>\n",
              "      <td>Australia</td>\n",
              "      <td>2016</td>\n",
              "    </tr>\n",
              "    <tr>\n",
              "      <th>17</th>\n",
              "      <td>Students enrolled in primary education (thousa...</td>\n",
              "      <td>2216.7790</td>\n",
              "      <td>NaN</td>\n",
              "      <td>Australia</td>\n",
              "      <td>2017</td>\n",
              "    </tr>\n",
              "    <tr>\n",
              "      <th>18</th>\n",
              "      <td>Students enrolled in primary education (thousa...</td>\n",
              "      <td>2216.7790</td>\n",
              "      <td>NaN</td>\n",
              "      <td>Australia</td>\n",
              "      <td>2018</td>\n",
              "    </tr>\n",
              "    <tr>\n",
              "      <th>19</th>\n",
              "      <td>Students enrolled in primary education (thousa...</td>\n",
              "      <td>2216.7790</td>\n",
              "      <td>NaN</td>\n",
              "      <td>Australia</td>\n",
              "      <td>2019</td>\n",
              "    </tr>\n",
              "  </tbody>\n",
              "</table>\n",
              "</div>"
            ],
            "text/plain": [
              "                                                 Data  ...  Year\n",
              "0   Students enrolled in primary education (thousa...  ...  2000\n",
              "1   Students enrolled in primary education (thousa...  ...  2001\n",
              "2   Students enrolled in primary education (thousa...  ...  2002\n",
              "3   Students enrolled in primary education (thousa...  ...  2003\n",
              "4   Students enrolled in primary education (thousa...  ...  2004\n",
              "5   Students enrolled in primary education (thousa...  ...  2005\n",
              "6   Students enrolled in primary education (thousa...  ...  2006\n",
              "7   Students enrolled in primary education (thousa...  ...  2007\n",
              "8   Students enrolled in primary education (thousa...  ...  2008\n",
              "9   Students enrolled in primary education (thousa...  ...  2009\n",
              "10  Students enrolled in primary education (thousa...  ...  2010\n",
              "11  Students enrolled in primary education (thousa...  ...  2011\n",
              "12  Students enrolled in primary education (thousa...  ...  2012\n",
              "13  Students enrolled in primary education (thousa...  ...  2013\n",
              "14  Students enrolled in primary education (thousa...  ...  2014\n",
              "15  Students enrolled in primary education (thousa...  ...  2015\n",
              "16  Students enrolled in primary education (thousa...  ...  2016\n",
              "17  Students enrolled in primary education (thousa...  ...  2017\n",
              "18  Students enrolled in primary education (thousa...  ...  2018\n",
              "19  Students enrolled in primary education (thousa...  ...  2019\n",
              "\n",
              "[20 rows x 5 columns]"
            ]
          },
          "metadata": {
            "tags": []
          },
          "execution_count": 40
        }
      ]
    },
    {
      "cell_type": "code",
      "metadata": {
        "id": "IRHt1QfGHxjg"
      },
      "source": [
        ""
      ],
      "execution_count": null,
      "outputs": []
    },
    {
      "cell_type": "markdown",
      "metadata": {
        "id": "4Cz3dUfZHycT"
      },
      "source": [
        "Let's fill the `Enrollments (Thousands)` column backward 5 rows before 2005"
      ]
    },
    {
      "cell_type": "code",
      "metadata": {
        "colab": {
          "base_uri": "https://localhost:8080/",
          "height": 622
        },
        "id": "mWe7YGQL9iFv",
        "outputId": "32255c7a-77a6-4cc4-b4f9-d8b0b35cf913"
      },
      "source": [
        "primary_enrollment_Australia.interpolate(method='linear', limit_direction='backward', limit=5)"
      ],
      "execution_count": null,
      "outputs": [
        {
          "output_type": "execute_result",
          "data": {
            "text/html": [
              "<div>\n",
              "<style scoped>\n",
              "    .dataframe tbody tr th:only-of-type {\n",
              "        vertical-align: middle;\n",
              "    }\n",
              "\n",
              "    .dataframe tbody tr th {\n",
              "        vertical-align: top;\n",
              "    }\n",
              "\n",
              "    .dataframe thead th {\n",
              "        text-align: right;\n",
              "    }\n",
              "</style>\n",
              "<table border=\"1\" class=\"dataframe\">\n",
              "  <thead>\n",
              "    <tr style=\"text-align: right;\">\n",
              "      <th></th>\n",
              "      <th>Data</th>\n",
              "      <th>Enrollments (Thousands)</th>\n",
              "      <th>Footnotes</th>\n",
              "      <th>Region/Country/Area</th>\n",
              "      <th>Year</th>\n",
              "    </tr>\n",
              "  </thead>\n",
              "  <tbody>\n",
              "    <tr>\n",
              "      <th>0</th>\n",
              "      <td>Students enrolled in primary education (thousa...</td>\n",
              "      <td>1934.9410</td>\n",
              "      <td>NaN</td>\n",
              "      <td>Australia</td>\n",
              "      <td>2000</td>\n",
              "    </tr>\n",
              "    <tr>\n",
              "      <th>1</th>\n",
              "      <td>Students enrolled in primary education (thousa...</td>\n",
              "      <td>1934.9410</td>\n",
              "      <td>NaN</td>\n",
              "      <td>Australia</td>\n",
              "      <td>2001</td>\n",
              "    </tr>\n",
              "    <tr>\n",
              "      <th>2</th>\n",
              "      <td>Students enrolled in primary education (thousa...</td>\n",
              "      <td>1934.9410</td>\n",
              "      <td>NaN</td>\n",
              "      <td>Australia</td>\n",
              "      <td>2002</td>\n",
              "    </tr>\n",
              "    <tr>\n",
              "      <th>3</th>\n",
              "      <td>Students enrolled in primary education (thousa...</td>\n",
              "      <td>1934.9410</td>\n",
              "      <td>NaN</td>\n",
              "      <td>Australia</td>\n",
              "      <td>2003</td>\n",
              "    </tr>\n",
              "    <tr>\n",
              "      <th>4</th>\n",
              "      <td>Students enrolled in primary education (thousa...</td>\n",
              "      <td>1934.9410</td>\n",
              "      <td>NaN</td>\n",
              "      <td>Australia</td>\n",
              "      <td>2004</td>\n",
              "    </tr>\n",
              "    <tr>\n",
              "      <th>5</th>\n",
              "      <td>Students enrolled in primary education (thousa...</td>\n",
              "      <td>1934.9410</td>\n",
              "      <td>NaN</td>\n",
              "      <td>Australia</td>\n",
              "      <td>2005</td>\n",
              "    </tr>\n",
              "    <tr>\n",
              "      <th>6</th>\n",
              "      <td>Students enrolled in primary education (thousa...</td>\n",
              "      <td>1950.9562</td>\n",
              "      <td>NaN</td>\n",
              "      <td>Australia</td>\n",
              "      <td>2006</td>\n",
              "    </tr>\n",
              "    <tr>\n",
              "      <th>7</th>\n",
              "      <td>Students enrolled in primary education (thousa...</td>\n",
              "      <td>1966.9714</td>\n",
              "      <td>NaN</td>\n",
              "      <td>Australia</td>\n",
              "      <td>2007</td>\n",
              "    </tr>\n",
              "    <tr>\n",
              "      <th>8</th>\n",
              "      <td>Students enrolled in primary education (thousa...</td>\n",
              "      <td>1982.9866</td>\n",
              "      <td>NaN</td>\n",
              "      <td>Australia</td>\n",
              "      <td>2008</td>\n",
              "    </tr>\n",
              "    <tr>\n",
              "      <th>9</th>\n",
              "      <td>Students enrolled in primary education (thousa...</td>\n",
              "      <td>1999.0018</td>\n",
              "      <td>NaN</td>\n",
              "      <td>Australia</td>\n",
              "      <td>2009</td>\n",
              "    </tr>\n",
              "    <tr>\n",
              "      <th>10</th>\n",
              "      <td>Students enrolled in primary education (thousa...</td>\n",
              "      <td>2015.0170</td>\n",
              "      <td>NaN</td>\n",
              "      <td>Australia</td>\n",
              "      <td>2010</td>\n",
              "    </tr>\n",
              "    <tr>\n",
              "      <th>11</th>\n",
              "      <td>Students enrolled in primary education (thousa...</td>\n",
              "      <td>2053.3955</td>\n",
              "      <td>NaN</td>\n",
              "      <td>Australia</td>\n",
              "      <td>2011</td>\n",
              "    </tr>\n",
              "    <tr>\n",
              "      <th>12</th>\n",
              "      <td>Students enrolled in primary education (thousa...</td>\n",
              "      <td>2091.7740</td>\n",
              "      <td>NaN</td>\n",
              "      <td>Australia</td>\n",
              "      <td>2012</td>\n",
              "    </tr>\n",
              "    <tr>\n",
              "      <th>13</th>\n",
              "      <td>Students enrolled in primary education (thousa...</td>\n",
              "      <td>2130.1525</td>\n",
              "      <td>NaN</td>\n",
              "      <td>Australia</td>\n",
              "      <td>2013</td>\n",
              "    </tr>\n",
              "    <tr>\n",
              "      <th>14</th>\n",
              "      <td>Students enrolled in primary education (thousa...</td>\n",
              "      <td>2168.5310</td>\n",
              "      <td>NaN</td>\n",
              "      <td>Australia</td>\n",
              "      <td>2014</td>\n",
              "    </tr>\n",
              "    <tr>\n",
              "      <th>15</th>\n",
              "      <td>Students enrolled in primary education (thousa...</td>\n",
              "      <td>2140.5710</td>\n",
              "      <td>NaN</td>\n",
              "      <td>Australia</td>\n",
              "      <td>2015</td>\n",
              "    </tr>\n",
              "    <tr>\n",
              "      <th>16</th>\n",
              "      <td>Students enrolled in primary education (thousa...</td>\n",
              "      <td>2178.6750</td>\n",
              "      <td>NaN</td>\n",
              "      <td>Australia</td>\n",
              "      <td>2016</td>\n",
              "    </tr>\n",
              "    <tr>\n",
              "      <th>17</th>\n",
              "      <td>Students enrolled in primary education (thousa...</td>\n",
              "      <td>2216.7790</td>\n",
              "      <td>NaN</td>\n",
              "      <td>Australia</td>\n",
              "      <td>2017</td>\n",
              "    </tr>\n",
              "    <tr>\n",
              "      <th>18</th>\n",
              "      <td>Students enrolled in primary education (thousa...</td>\n",
              "      <td>2216.7790</td>\n",
              "      <td>NaN</td>\n",
              "      <td>Australia</td>\n",
              "      <td>2018</td>\n",
              "    </tr>\n",
              "    <tr>\n",
              "      <th>19</th>\n",
              "      <td>Students enrolled in primary education (thousa...</td>\n",
              "      <td>2216.7790</td>\n",
              "      <td>NaN</td>\n",
              "      <td>Australia</td>\n",
              "      <td>2019</td>\n",
              "    </tr>\n",
              "  </tbody>\n",
              "</table>\n",
              "</div>"
            ],
            "text/plain": [
              "                                                 Data  ...  Year\n",
              "0   Students enrolled in primary education (thousa...  ...  2000\n",
              "1   Students enrolled in primary education (thousa...  ...  2001\n",
              "2   Students enrolled in primary education (thousa...  ...  2002\n",
              "3   Students enrolled in primary education (thousa...  ...  2003\n",
              "4   Students enrolled in primary education (thousa...  ...  2004\n",
              "5   Students enrolled in primary education (thousa...  ...  2005\n",
              "6   Students enrolled in primary education (thousa...  ...  2006\n",
              "7   Students enrolled in primary education (thousa...  ...  2007\n",
              "8   Students enrolled in primary education (thousa...  ...  2008\n",
              "9   Students enrolled in primary education (thousa...  ...  2009\n",
              "10  Students enrolled in primary education (thousa...  ...  2010\n",
              "11  Students enrolled in primary education (thousa...  ...  2011\n",
              "12  Students enrolled in primary education (thousa...  ...  2012\n",
              "13  Students enrolled in primary education (thousa...  ...  2013\n",
              "14  Students enrolled in primary education (thousa...  ...  2014\n",
              "15  Students enrolled in primary education (thousa...  ...  2015\n",
              "16  Students enrolled in primary education (thousa...  ...  2016\n",
              "17  Students enrolled in primary education (thousa...  ...  2017\n",
              "18  Students enrolled in primary education (thousa...  ...  2018\n",
              "19  Students enrolled in primary education (thousa...  ...  2019\n",
              "\n",
              "[20 rows x 5 columns]"
            ]
          },
          "metadata": {
            "tags": []
          },
          "execution_count": 41
        }
      ]
    }
  ]
}